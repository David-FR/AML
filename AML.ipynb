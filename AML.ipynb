{
 "cells": [
  {
   "cell_type": "markdown",
   "id": "68d08c09-895a-466e-a5bf-012ad807cde3",
   "metadata": {},
   "source": [
    "# AML"
   ]
  },
  {
   "cell_type": "code",
   "execution_count": 1,
   "id": "60670eac-ff7d-4c37-83ba-a951f82fbce3",
   "metadata": {
    "tags": []
   },
   "outputs": [],
   "source": [
    "# Specify visible cuda device\n",
    "import os\n",
    "os.environ[\"CUDA_DEVICE_ORDER\"] = \"PCI_BUS_ID\"\n",
    "os.environ[\"CUDA_VISIBLE_DEVICES\"] = \"0,1\"\n",
    "os.environ['TF_FORCE_GPU_ALLOW_GROWTH'] = 'true'"
   ]
  },
  {
   "cell_type": "markdown",
   "id": "c6fff9dc-e9fa-4e1f-b01d-7342412c9870",
   "metadata": {},
   "source": [
    "* The first time that you run the next cell will return an error: *AttributeError: module 'scipy.fft' has no attribute 'next_fast_len'*.\n",
    "* This is a known error in *scipy 0.19.1* and has been fixed. It's due to some libraries being loaded in the wrong order. \n",
    "* If you run the cell again it will run without errors (lost a ton of time figuring this out)\n",
    "* I choose to leave this as is because *scipy 0.19* is the last version that implements the *scipy.misc.imread* which is used when reading the images. \n",
    "* (Also lost a ton of time with this) I tried implementing the same functionality with *openCV* but due to other dependencies the newest version of *openCV* that's compatible with the code loads the images with a blue tone"
   ]
  },
  {
   "cell_type": "code",
   "execution_count": 3,
   "id": "b8bf07af-4de0-450a-8bf0-1b33741cc987",
   "metadata": {},
   "outputs": [],
   "source": [
    "%matplotlib inline\n",
    "\n",
    "%reload_ext autoreload\n",
    "%autoreload 2\n",
    "\n",
    "from parameters import *\n",
    "from lib.utils import *\n",
    "from lib.attacks import *\n",
    "from lib.keras_utils import *\n",
    "from lib.RandomTransform import *\n",
    "from lib.OptCarlini import *\n",
    "from lib.OptTransform import *\n",
    "\n",
    "from lib.tf_utils import *"
   ]
  },
  {
   "cell_type": "markdown",
   "id": "6184c7fe-94e7-49ea-9aed-4586ba759bd2",
   "metadata": {},
   "source": [
    "### Check versions\n",
    "* Checks loaded versions\n",
    "* Checks that tensorflow recognizes the GPUs available"
   ]
  },
  {
   "cell_type": "code",
   "execution_count": 4,
   "id": "ff5d67c6-3bc7-4e6a-ba69-4ae36ef39ea5",
   "metadata": {},
   "outputs": [
    {
     "name": "stdout",
     "output_type": "stream",
     "text": [
      "tensorflow version: 1.15.0\n",
      "scipy version 0.19.1\n",
      "numpy version: 1.16.0\n",
      "cuda version: 10.0\n",
      "cudnn version: 7.6\n",
      "Num GPUs Available: 2\n",
      "Device mapping:\n",
      "/job:localhost/replica:0/task:0/device:XLA_CPU:0 -> device: XLA_CPU device\n",
      "/job:localhost/replica:0/task:0/device:XLA_GPU:0 -> device: XLA_GPU device\n",
      "/job:localhost/replica:0/task:0/device:XLA_GPU:1 -> device: XLA_GPU device\n",
      "/job:localhost/replica:0/task:0/device:GPU:0 -> device: 0, name: Tesla V100-PCIE-16GB, pci bus id: 0000:3b:00.0, compute capability: 7.0\n",
      "/job:localhost/replica:0/task:0/device:GPU:1 -> device: 1, name: Tesla V100-PCIE-16GB, pci bus id: 0000:d8:00.0, compute capability: 7.0\n",
      "\n"
     ]
    }
   ],
   "source": [
    "import tensorflow as tf\n",
    "print('tensorflow version:', tf.__version__)\n",
    "\n",
    "import scipy\n",
    "print('scipy version', scipy.__version__)\n",
    "\n",
    "import numpy as np\n",
    "print('numpy version:',np.__version__)\n",
    "\n",
    "from tensorflow.python.platform import build_info as tf_build_info\n",
    "print('cuda version:', tf_build_info.cuda_version_number)\n",
    "print('cudnn version:', tf_build_info.cudnn_version_number)\n",
    "\n",
    "# Check GPUs\n",
    "print(\"Num GPUs Available:\", len(tf.config.experimental.list_physical_devices('GPU'))) \n",
    "sess = tf.Session(config=tf.ConfigProto(log_device_placement=True))"
   ]
  },
  {
   "cell_type": "markdown",
   "id": "b15cdb4f-0829-4d02-a6f0-b6d7d8f50be0",
   "metadata": {},
   "source": [
    "### Train Model\n",
    "* Here we train the NN model on GTRB\n",
    "* After solving GPU errors this no longer takes multiple hours, but still takes 15min+\n",
    "* This will save the weights of the trained model to the *filepath* specified so instead of running the model each time we can load the weights "
   ]
  },
  {
   "cell_type": "code",
   "execution_count": 5,
   "id": "978674b1-ca7d-4de0-a852-e67964b31d0d",
   "metadata": {
    "collapsed": true,
    "jupyter": {
     "outputs_hidden": true,
     "source_hidden": true
    },
    "tags": []
   },
   "outputs": [
    {
     "name": "stdout",
     "output_type": "stream",
     "text": [
      "WARNING:tensorflow:From /home/dferna3/.conda/envs/myenv3/lib/python3.6/site-packages/keras/backend/tensorflow_backend.py:68: The name tf.get_default_graph is deprecated. Please use tf.compat.v1.get_default_graph instead.\n",
      "\n",
      "WARNING:tensorflow:From /home/dferna3/.conda/envs/myenv3/lib/python3.6/site-packages/keras/backend/tensorflow_backend.py:508: The name tf.placeholder is deprecated. Please use tf.compat.v1.placeholder instead.\n",
      "\n",
      "WARNING:tensorflow:From /home/dferna3/.conda/envs/myenv3/lib/python3.6/site-packages/keras/backend/tensorflow_backend.py:3837: The name tf.random_uniform is deprecated. Please use tf.random.uniform instead.\n",
      "\n",
      "WARNING:tensorflow:From /home/dferna3/.conda/envs/myenv3/lib/python3.6/site-packages/keras/backend/tensorflow_backend.py:127: The name tf.placeholder_with_default is deprecated. Please use tf.compat.v1.placeholder_with_default instead.\n",
      "\n",
      "WARNING:tensorflow:From /home/dferna3/.conda/envs/myenv3/lib/python3.6/site-packages/keras/backend/tensorflow_backend.py:3144: calling dropout (from tensorflow.python.ops.nn_ops) with keep_prob is deprecated and will be removed in a future version.\n",
      "Instructions for updating:\n",
      "Please use `rate` instead of `keep_prob`. Rate should be set to `rate = 1 - keep_prob`.\n",
      "WARNING:tensorflow:From /home/dferna3/.conda/envs/myenv3/lib/python3.6/site-packages/keras/backend/tensorflow_backend.py:3661: The name tf.nn.max_pool is deprecated. Please use tf.nn.max_pool2d instead.\n",
      "\n",
      "WARNING:tensorflow:From /home/dferna3/.conda/envs/myenv3/lib/python3.6/site-packages/keras/optimizers.py:757: The name tf.train.Optimizer is deprecated. Please use tf.compat.v1.train.Optimizer instead.\n",
      "\n",
      "WARNING:tensorflow:From /home/dferna3/advml-traffic-sign/lib/keras_utils.py:14: softmax_cross_entropy_with_logits (from tensorflow.python.ops.nn_ops) is deprecated and will be removed in a future version.\n",
      "Instructions for updating:\n",
      "\n",
      "Future major versions of TensorFlow will allow gradients to flow\n",
      "into the labels input on backprop by default.\n",
      "\n",
      "See `tf.nn.softmax_cross_entropy_with_logits_v2`.\n",
      "\n",
      "WARNING:tensorflow:From /home/dferna3/.conda/envs/myenv3/lib/python3.6/site-packages/keras/backend/tensorflow_backend.py:977: The name tf.assign_add is deprecated. Please use tf.compat.v1.assign_add instead.\n",
      "\n",
      "WARNING:tensorflow:From /home/dferna3/.conda/envs/myenv3/lib/python3.6/site-packages/keras/backend/tensorflow_backend.py:964: The name tf.assign is deprecated. Please use tf.compat.v1.assign instead.\n",
      "\n",
      "Train on 34799 samples, validate on 4410 samples\n",
      "Epoch 1/100\n",
      "WARNING:tensorflow:From /home/dferna3/.conda/envs/myenv3/lib/python3.6/site-packages/keras/backend/tensorflow_backend.py:168: The name tf.get_default_session is deprecated. Please use tf.compat.v1.get_default_session instead.\n",
      "\n",
      "WARNING:tensorflow:From /home/dferna3/.conda/envs/myenv3/lib/python3.6/site-packages/keras/backend/tensorflow_backend.py:184: The name tf.global_variables is deprecated. Please use tf.compat.v1.global_variables instead.\n",
      "\n",
      "WARNING:tensorflow:From /home/dferna3/.conda/envs/myenv3/lib/python3.6/site-packages/keras/backend/tensorflow_backend.py:193: The name tf.is_variable_initialized is deprecated. Please use tf.compat.v1.is_variable_initialized instead.\n",
      "\n",
      "WARNING:tensorflow:From /home/dferna3/.conda/envs/myenv3/lib/python3.6/site-packages/keras/backend/tensorflow_backend.py:200: The name tf.variables_initializer is deprecated. Please use tf.compat.v1.variables_initializer instead.\n",
      "\n",
      "34799/34799 [==============================] - 10s 275us/step - loss: 2.1851 - acc: 0.4339 - val_loss: 1.5873 - val_acc: 0.6188\n",
      "Epoch 2/100\n",
      "34799/34799 [==============================] - 7s 197us/step - loss: 0.8276 - acc: 0.7787 - val_loss: 0.9755 - val_acc: 0.7608\n",
      "Epoch 3/100\n",
      "34799/34799 [==============================] - 7s 198us/step - loss: 0.4898 - acc: 0.8820 - val_loss: 0.8245 - val_acc: 0.7982\n",
      "Epoch 4/100\n",
      "34799/34799 [==============================] - 7s 199us/step - loss: 0.3452 - acc: 0.9273 - val_loss: 0.7409 - val_acc: 0.8277\n",
      "Epoch 5/100\n",
      "34799/34799 [==============================] - 7s 198us/step - loss: 0.2670 - acc: 0.9496 - val_loss: 0.6195 - val_acc: 0.8540\n",
      "Epoch 6/100\n",
      "34799/34799 [==============================] - 7s 194us/step - loss: 0.2215 - acc: 0.9629 - val_loss: 0.5713 - val_acc: 0.8753\n",
      "Epoch 7/100\n",
      "34799/34799 [==============================] - 7s 201us/step - loss: 0.1919 - acc: 0.9716 - val_loss: 0.5468 - val_acc: 0.8814\n",
      "Epoch 8/100\n",
      "34799/34799 [==============================] - 7s 197us/step - loss: 0.1757 - acc: 0.9759 - val_loss: 0.5580 - val_acc: 0.8898\n",
      "Epoch 9/100\n",
      "34799/34799 [==============================] - 7s 195us/step - loss: 0.1587 - acc: 0.9808 - val_loss: 0.5208 - val_acc: 0.8909\n",
      "Epoch 10/100\n",
      "34799/34799 [==============================] - 7s 198us/step - loss: 0.1471 - acc: 0.9845 - val_loss: 0.5073 - val_acc: 0.8900\n",
      "Epoch 11/100\n",
      "34799/34799 [==============================] - 7s 196us/step - loss: 0.1347 - acc: 0.9868 - val_loss: 0.4059 - val_acc: 0.9136\n",
      "Epoch 12/100\n",
      "34799/34799 [==============================] - 7s 200us/step - loss: 0.1284 - acc: 0.9887 - val_loss: 0.4222 - val_acc: 0.9109\n",
      "Epoch 13/100\n",
      "34799/34799 [==============================] - 7s 192us/step - loss: 0.1267 - acc: 0.9878 - val_loss: 0.4366 - val_acc: 0.9166\n",
      "Epoch 14/100\n",
      "34799/34799 [==============================] - 7s 193us/step - loss: 0.1155 - acc: 0.9910 - val_loss: 0.4416 - val_acc: 0.9154\n",
      "Epoch 15/100\n",
      "34799/34799 [==============================] - 7s 198us/step - loss: 0.1121 - acc: 0.9910 - val_loss: 0.4078 - val_acc: 0.9213\n",
      "Epoch 16/100\n",
      "34799/34799 [==============================] - 7s 198us/step - loss: 0.1035 - acc: 0.9927 - val_loss: 0.4005 - val_acc: 0.9122\n",
      "Epoch 17/100\n",
      "34799/34799 [==============================] - 7s 194us/step - loss: 0.1016 - acc: 0.9928 - val_loss: 0.4278 - val_acc: 0.9202\n",
      "Epoch 18/100\n",
      "34799/34799 [==============================] - 7s 197us/step - loss: 0.0985 - acc: 0.9930 - val_loss: 0.4007 - val_acc: 0.9256\n",
      "Epoch 19/100\n",
      "34799/34799 [==============================] - 7s 198us/step - loss: 0.0926 - acc: 0.9939 - val_loss: 0.3376 - val_acc: 0.9408\n",
      "Epoch 20/100\n",
      "34799/34799 [==============================] - 7s 194us/step - loss: 0.0895 - acc: 0.9945 - val_loss: 0.3623 - val_acc: 0.9397\n",
      "Epoch 21/100\n",
      "34799/34799 [==============================] - 7s 193us/step - loss: 0.0885 - acc: 0.9940 - val_loss: 0.3354 - val_acc: 0.9429\n",
      "Epoch 22/100\n",
      "34799/34799 [==============================] - 7s 197us/step - loss: 0.0804 - acc: 0.9959 - val_loss: 0.3480 - val_acc: 0.9388\n",
      "Epoch 23/100\n",
      "34799/34799 [==============================] - 7s 196us/step - loss: 0.0813 - acc: 0.9947 - val_loss: 0.3327 - val_acc: 0.9433\n",
      "Epoch 24/100\n",
      "34799/34799 [==============================] - 7s 196us/step - loss: 0.0799 - acc: 0.9945 - val_loss: 0.3091 - val_acc: 0.9454\n",
      "Epoch 25/100\n",
      "34799/34799 [==============================] - 7s 196us/step - loss: 0.0736 - acc: 0.9961 - val_loss: 0.3273 - val_acc: 0.9424\n",
      "Epoch 26/100\n",
      "34799/34799 [==============================] - 7s 197us/step - loss: 0.0734 - acc: 0.9952 - val_loss: 0.2837 - val_acc: 0.9472\n",
      "Epoch 27/100\n",
      "34799/34799 [==============================] - 7s 197us/step - loss: 0.0687 - acc: 0.9963 - val_loss: 0.2622 - val_acc: 0.9574\n",
      "Epoch 28/100\n",
      "34799/34799 [==============================] - 7s 197us/step - loss: 0.0668 - acc: 0.9961 - val_loss: 0.3169 - val_acc: 0.9379\n",
      "Epoch 29/100\n",
      "34799/34799 [==============================] - 7s 194us/step - loss: 0.0668 - acc: 0.9961 - val_loss: 0.2914 - val_acc: 0.9481\n",
      "Epoch 30/100\n",
      "34799/34799 [==============================] - 7s 197us/step - loss: 0.0651 - acc: 0.9962 - val_loss: 0.3278 - val_acc: 0.9460\n",
      "Epoch 31/100\n",
      "34799/34799 [==============================] - 7s 196us/step - loss: 0.0626 - acc: 0.9964 - val_loss: 0.3579 - val_acc: 0.9417\n",
      "Epoch 32/100\n",
      "34799/34799 [==============================] - 7s 193us/step - loss: 0.0602 - acc: 0.9966 - val_loss: 0.3095 - val_acc: 0.9415\n",
      "Epoch 33/100\n",
      "34799/34799 [==============================] - 7s 197us/step - loss: 0.0594 - acc: 0.9965 - val_loss: 0.2839 - val_acc: 0.9440\n",
      "Epoch 34/100\n",
      "34799/34799 [==============================] - 7s 194us/step - loss: 0.0560 - acc: 0.9971 - val_loss: 0.3144 - val_acc: 0.9361\n",
      "Epoch 35/100\n",
      "34799/34799 [==============================] - 7s 196us/step - loss: 0.0547 - acc: 0.9971 - val_loss: 0.2657 - val_acc: 0.9542\n",
      "Epoch 36/100\n",
      "34799/34799 [==============================] - 7s 195us/step - loss: 0.0518 - acc: 0.9973 - val_loss: 0.2754 - val_acc: 0.9385\n",
      "Epoch 37/100\n",
      "34799/34799 [==============================] - 7s 197us/step - loss: 0.0524 - acc: 0.9971 - val_loss: 0.3468 - val_acc: 0.9399\n",
      "Epoch 38/100\n",
      "34799/34799 [==============================] - 7s 195us/step - loss: 0.0534 - acc: 0.9964 - val_loss: 0.3013 - val_acc: 0.9578\n",
      "Epoch 39/100\n",
      "34799/34799 [==============================] - 7s 195us/step - loss: 0.0523 - acc: 0.9966 - val_loss: 0.2664 - val_acc: 0.9483\n",
      "Epoch 40/100\n",
      "34799/34799 [==============================] - 7s 198us/step - loss: 0.0473 - acc: 0.9978 - val_loss: 0.2727 - val_acc: 0.9420\n",
      "Epoch 41/100\n",
      "34799/34799 [==============================] - 7s 197us/step - loss: 0.0474 - acc: 0.9972 - val_loss: 0.2667 - val_acc: 0.9531\n",
      "Epoch 42/100\n",
      "34799/34799 [==============================] - 7s 196us/step - loss: 0.0486 - acc: 0.9971 - val_loss: 0.2648 - val_acc: 0.9533\n",
      "Epoch 43/100\n",
      "34799/34799 [==============================] - 7s 196us/step - loss: 0.0455 - acc: 0.9978 - val_loss: 0.2865 - val_acc: 0.9474\n",
      "Epoch 44/100\n",
      "34799/34799 [==============================] - 7s 196us/step - loss: 0.0461 - acc: 0.9970 - val_loss: 0.2408 - val_acc: 0.9537\n",
      "Epoch 45/100\n",
      "34799/34799 [==============================] - 7s 193us/step - loss: 0.0438 - acc: 0.9977 - val_loss: 0.2657 - val_acc: 0.9512\n",
      "Epoch 46/100\n",
      "34799/34799 [==============================] - 7s 191us/step - loss: 0.0422 - acc: 0.9978 - val_loss: 0.2364 - val_acc: 0.9587\n",
      "Epoch 47/100\n",
      "34799/34799 [==============================] - 7s 198us/step - loss: 0.0421 - acc: 0.9975 - val_loss: 0.2498 - val_acc: 0.9603\n",
      "Epoch 48/100\n",
      "34799/34799 [==============================] - 7s 201us/step - loss: 0.0403 - acc: 0.9979 - val_loss: 0.2302 - val_acc: 0.9603\n",
      "Epoch 49/100\n",
      "34799/34799 [==============================] - 7s 194us/step - loss: 0.0394 - acc: 0.9980 - val_loss: 0.2406 - val_acc: 0.9546\n",
      "Epoch 50/100\n",
      "34799/34799 [==============================] - 7s 197us/step - loss: 0.0422 - acc: 0.9971 - val_loss: 0.2313 - val_acc: 0.9592\n",
      "Epoch 51/100\n",
      "34799/34799 [==============================] - 7s 196us/step - loss: 0.0381 - acc: 0.9980 - val_loss: 0.2493 - val_acc: 0.9497\n",
      "Epoch 52/100\n",
      "34799/34799 [==============================] - 7s 195us/step - loss: 0.0382 - acc: 0.9980 - val_loss: 0.2274 - val_acc: 0.9565\n",
      "Epoch 53/100\n",
      "34799/34799 [==============================] - 7s 198us/step - loss: 0.0372 - acc: 0.9978 - val_loss: 0.2394 - val_acc: 0.9605\n",
      "Epoch 54/100\n",
      "34799/34799 [==============================] - 7s 196us/step - loss: 0.0376 - acc: 0.9977 - val_loss: 0.2131 - val_acc: 0.9533\n",
      "Epoch 55/100\n",
      "34799/34799 [==============================] - 7s 192us/step - loss: 0.0369 - acc: 0.9977 - val_loss: 0.2008 - val_acc: 0.9596\n",
      "Epoch 56/100\n",
      "34799/34799 [==============================] - 7s 196us/step - loss: 0.0360 - acc: 0.9981 - val_loss: 0.2573 - val_acc: 0.9490\n",
      "Epoch 57/100\n",
      "34799/34799 [==============================] - 7s 197us/step - loss: 0.0361 - acc: 0.9979 - val_loss: 0.2000 - val_acc: 0.9630\n",
      "Epoch 58/100\n",
      "34799/34799 [==============================] - 7s 197us/step - loss: 0.0353 - acc: 0.9982 - val_loss: 0.2318 - val_acc: 0.9506\n",
      "Epoch 59/100\n",
      "34799/34799 [==============================] - 7s 198us/step - loss: 0.0352 - acc: 0.9979 - val_loss: 0.2445 - val_acc: 0.9642\n",
      "Epoch 60/100\n",
      "34799/34799 [==============================] - 7s 195us/step - loss: 0.0345 - acc: 0.9979 - val_loss: 0.2341 - val_acc: 0.9594\n",
      "Epoch 61/100\n",
      "34799/34799 [==============================] - 7s 198us/step - loss: 0.0354 - acc: 0.9979 - val_loss: 0.2164 - val_acc: 0.9608\n",
      "Epoch 62/100\n",
      "34799/34799 [==============================] - 7s 193us/step - loss: 0.0337 - acc: 0.9979 - val_loss: 0.2064 - val_acc: 0.9551\n",
      "Epoch 63/100\n",
      "34799/34799 [==============================] - 7s 191us/step - loss: 0.0346 - acc: 0.9976 - val_loss: 0.2121 - val_acc: 0.9624\n",
      "Epoch 64/100\n",
      "34799/34799 [==============================] - 7s 195us/step - loss: 0.0336 - acc: 0.9981 - val_loss: 0.2145 - val_acc: 0.9601\n",
      "Epoch 65/100\n",
      "34799/34799 [==============================] - 7s 197us/step - loss: 0.0308 - acc: 0.9987 - val_loss: 0.2462 - val_acc: 0.9451\n",
      "Epoch 66/100\n",
      "34799/34799 [==============================] - 7s 197us/step - loss: 0.0325 - acc: 0.9982 - val_loss: 0.1777 - val_acc: 0.9658\n",
      "Epoch 67/100\n",
      "34799/34799 [==============================] - 7s 197us/step - loss: 0.0312 - acc: 0.9983 - val_loss: 0.2251 - val_acc: 0.9535\n",
      "Epoch 68/100\n",
      "34799/34799 [==============================] - 7s 196us/step - loss: 0.0315 - acc: 0.9981 - val_loss: 0.1935 - val_acc: 0.9617\n",
      "Epoch 69/100\n",
      "34799/34799 [==============================] - 7s 199us/step - loss: 0.0315 - acc: 0.9981 - val_loss: 0.1764 - val_acc: 0.9626\n",
      "Epoch 70/100\n",
      "34799/34799 [==============================] - 7s 197us/step - loss: 0.0298 - acc: 0.9987 - val_loss: 0.1915 - val_acc: 0.9630\n",
      "Epoch 71/100\n",
      "34799/34799 [==============================] - 7s 198us/step - loss: 0.0295 - acc: 0.9984 - val_loss: 0.2361 - val_acc: 0.9587\n",
      "Epoch 72/100\n",
      "34799/34799 [==============================] - 7s 198us/step - loss: 0.0304 - acc: 0.9983 - val_loss: 0.2032 - val_acc: 0.9601\n",
      "Epoch 73/100\n",
      "34799/34799 [==============================] - 7s 199us/step - loss: 0.0295 - acc: 0.9986 - val_loss: 0.2230 - val_acc: 0.9469\n",
      "Epoch 74/100\n",
      "34799/34799 [==============================] - 7s 194us/step - loss: 0.0263 - acc: 0.9991 - val_loss: 0.1816 - val_acc: 0.9669\n",
      "Epoch 75/100\n",
      "34799/34799 [==============================] - 7s 197us/step - loss: 0.0319 - acc: 0.9973 - val_loss: 0.2124 - val_acc: 0.9612\n",
      "Epoch 76/100\n",
      "34799/34799 [==============================] - 7s 198us/step - loss: 0.0267 - acc: 0.9989 - val_loss: 0.1804 - val_acc: 0.9662\n",
      "Epoch 77/100\n",
      "34799/34799 [==============================] - 7s 195us/step - loss: 0.0285 - acc: 0.9985 - val_loss: 0.2423 - val_acc: 0.9540\n",
      "Epoch 78/100\n",
      "34799/34799 [==============================] - 7s 195us/step - loss: 0.0266 - acc: 0.9987 - val_loss: 0.1762 - val_acc: 0.9637\n",
      "Epoch 79/100\n",
      "34799/34799 [==============================] - 7s 191us/step - loss: 0.0258 - acc: 0.9986 - val_loss: 0.2195 - val_acc: 0.9565\n",
      "Epoch 80/100\n",
      "34799/34799 [==============================] - 7s 196us/step - loss: 0.0300 - acc: 0.9977 - val_loss: 0.2189 - val_acc: 0.9522\n",
      "Epoch 81/100\n",
      "34799/34799 [==============================] - 7s 193us/step - loss: 0.0264 - acc: 0.9988 - val_loss: 0.1882 - val_acc: 0.9587\n",
      "Epoch 82/100\n",
      "34799/34799 [==============================] - 7s 196us/step - loss: 0.0273 - acc: 0.9984 - val_loss: 0.2288 - val_acc: 0.9562\n",
      "Epoch 83/100\n",
      "34799/34799 [==============================] - 7s 196us/step - loss: 0.0266 - acc: 0.9984 - val_loss: 0.2124 - val_acc: 0.9630\n",
      "Epoch 84/100\n",
      "34799/34799 [==============================] - 7s 194us/step - loss: 0.0262 - acc: 0.9985 - val_loss: 0.2118 - val_acc: 0.9578\n",
      "Epoch 85/100\n",
      "34799/34799 [==============================] - 7s 195us/step - loss: 0.0258 - acc: 0.9985 - val_loss: 0.1936 - val_acc: 0.9669\n",
      "Epoch 86/100\n",
      "34799/34799 [==============================] - 7s 197us/step - loss: 0.0282 - acc: 0.9980 - val_loss: 0.2081 - val_acc: 0.9621\n",
      "Epoch 87/100\n",
      "34799/34799 [==============================] - 7s 198us/step - loss: 0.0268 - acc: 0.9984 - val_loss: 0.1731 - val_acc: 0.9655\n",
      "Epoch 88/100\n",
      "34799/34799 [==============================] - 7s 195us/step - loss: 0.0255 - acc: 0.9988 - val_loss: 0.1966 - val_acc: 0.9639\n",
      "Epoch 89/100\n",
      "34799/34799 [==============================] - 7s 196us/step - loss: 0.0257 - acc: 0.9985 - val_loss: 0.1872 - val_acc: 0.9624\n",
      "Epoch 90/100\n",
      "34799/34799 [==============================] - 7s 198us/step - loss: 0.0269 - acc: 0.9983 - val_loss: 0.1862 - val_acc: 0.9560\n",
      "Epoch 91/100\n",
      "34799/34799 [==============================] - 7s 196us/step - loss: 0.0249 - acc: 0.9989 - val_loss: 0.2432 - val_acc: 0.9612\n",
      "Epoch 92/100\n",
      "34799/34799 [==============================] - 7s 195us/step - loss: 0.0266 - acc: 0.9984 - val_loss: 0.1708 - val_acc: 0.9694\n",
      "Epoch 93/100\n",
      "34799/34799 [==============================] - 7s 191us/step - loss: 0.0257 - acc: 0.9987 - val_loss: 0.1975 - val_acc: 0.9603\n",
      "Epoch 94/100\n",
      "34799/34799 [==============================] - 7s 193us/step - loss: 0.0249 - acc: 0.9987 - val_loss: 0.1947 - val_acc: 0.9619\n",
      "Epoch 95/100\n",
      "34799/34799 [==============================] - 7s 194us/step - loss: 0.0240 - acc: 0.9985 - val_loss: 0.1727 - val_acc: 0.9639\n",
      "Epoch 96/100\n",
      "34799/34799 [==============================] - 7s 188us/step - loss: 0.0244 - acc: 0.9988 - val_loss: 0.1998 - val_acc: 0.9637\n",
      "Epoch 97/100\n",
      "34799/34799 [==============================] - 7s 189us/step - loss: 0.0235 - acc: 0.9989 - val_loss: 0.1801 - val_acc: 0.9685\n",
      "Epoch 98/100\n",
      "34799/34799 [==============================] - 6s 187us/step - loss: 0.0234 - acc: 0.9986 - val_loss: 0.1859 - val_acc: 0.9662\n",
      "Epoch 99/100\n",
      "34799/34799 [==============================] - 7s 193us/step - loss: 0.0236 - acc: 0.9985 - val_loss: 0.1920 - val_acc: 0.9667\n",
      "Epoch 100/100\n",
      "34799/34799 [==============================] - 7s 191us/step - loss: 0.0234 - acc: 0.9987 - val_loss: 0.1618 - val_acc: 0.9687\n"
     ]
    },
    {
     "data": {
      "text/plain": [
       "<keras.callbacks.History at 0x1479ac18a828>"
      ]
     },
     "execution_count": 5,
     "metadata": {},
     "output_type": "execute_result"
    }
   ],
   "source": [
    "# Set training metadata\n",
    "LOAD_WEIGHTS = False\n",
    "LOAD_WEIGHTS_PATH = './weights.24-0.20.hdf5'\n",
    "TRAIN_FILE_NAME = 'train.p'\n",
    "\n",
    "# Build model. model is a compiled Keras model with last layer being logits.\n",
    "model = build_mltscl()\n",
    "if LOAD_WEIGHTS:\n",
    "    model.load_weights(LOAD_WEIGHTS_PATH)\n",
    "\n",
    "# Load dataset\n",
    "x_train, y_train, x_val, y_val, x_test, y_test = load_dataset_GTSRB(\n",
    "    n_channel=N_CHANNEL, train_file_name=TRAIN_FILE_NAME)\n",
    "\n",
    "# Convert to one-hot encoding\n",
    "y_train = keras.utils.to_categorical(y_train, NUM_LABELS)\n",
    "y_test = keras.utils.to_categorical(y_test, NUM_LABELS)\n",
    "y_val = keras.utils.to_categorical(y_val, NUM_LABELS)\n",
    "\n",
    "# Path to save weights\n",
    "filepath = './og_model_weights/weights.{epoch:02d}-{val_loss:.2f}.hdf5'\n",
    "\n",
    "# Callback function to save weights every epoch\n",
    "modelCheckpoint = keras.callbacks.ModelCheckpoint(\n",
    "    filepath, monitor='val_loss', verbose=0, save_best_only=False,\n",
    "    save_weights_only=False, mode='auto', period=1)\n",
    "# Callback function for early stopping\n",
    "# earlyStop = keras.callbacks.EarlyStopping(\n",
    "#    monitor='val_loss', min_delta=0.001, patience=5, verbose=0, mode='auto')\n",
    "\n",
    "model.fit(x_train, y_train, batch_size=BATCH_SIZE, epochs=NUM_EPOCH, verbose=1,\n",
    "          callbacks=[modelCheckpoint], validation_data=(\n",
    "              x_val, y_val),\n",
    "          shuffle=True, initial_epoch=0)"
   ]
  },
  {
   "cell_type": "markdown",
   "id": "bf7f71db-4a41-4adb-a039-6ca8a19f8dda",
   "metadata": {},
   "source": [
    "### Check error rate of model"
   ]
  },
  {
   "cell_type": "code",
   "execution_count": 77,
   "id": "ad7b65f3-f523-4857-a522-4e8ba9cccde7",
   "metadata": {},
   "outputs": [
    {
     "name": "stdout",
     "output_type": "stream",
     "text": [
      "error_rate: 3.151227236737924%\n"
     ]
    }
   ],
   "source": [
    "x = K.placeholder(shape=(None, HEIGHT, WIDTH, N_CHANNEL))\n",
    "error_rate = tf_test_error_rate(model, x, x_test, y_test)\n",
    "print(f'error_rate: {error_rate[-1]}%')"
   ]
  },
  {
   "cell_type": "markdown",
   "id": "97e110fa-0ddd-4055-b5ab-76c86d799f83",
   "metadata": {},
   "source": [
    "### Load Model\n",
    "* Once you've trained your model at least once, you can load it instead"
   ]
  },
  {
   "cell_type": "code",
   "execution_count": 98,
   "id": "8a97f487-a086-4352-8392-3a59bfb9131d",
   "metadata": {},
   "outputs": [
    {
     "name": "stdout",
     "output_type": "stream",
     "text": [
      "len(x_train) 34799\n",
      "type(x_train) <class 'numpy.ndarray'>\n",
      "x_train.shape (34799, 32, 32, 3)\n",
      "\n",
      "x_val is 12.672777953389467% of x_train data\n",
      "x_test is 36.29414638351677% of x_train data\n",
      "\n",
      "Before one-hot encoding:\n",
      "type(y_train) <class 'numpy.ndarray'>\n",
      "len(y_train) 34799\n",
      "y_train[0] 41\n",
      "y_train.shape (34799,)\n",
      "\n",
      "After categorical:\n",
      "len(y_train) 34799\n",
      "type(y_train) <class 'numpy.ndarray'>\n",
      "y_train.shape (34799, 43)\n"
     ]
    }
   ],
   "source": [
    "# Build and load trained model\n",
    "#model = built_mltscl()\n",
    "model = build_mltscl()\n",
    "\n",
    "model.load_weights(WEIGTHS_PATH)\n",
    "\n",
    "# Load dataset\n",
    "x_train, y_train, x_val, y_val, x_test, y_test = load_dataset_GTSRB(\n",
    "    n_channel=N_CHANNEL)\n",
    "\n",
    "print('len(x_train)', len(x_train))\n",
    "print('type(x_train)', type(x_train))\n",
    "print('x_train.shape', x_train.shape)\n",
    "print()\n",
    "print(f'x_val is {(len(x_val)/len(x_train)) * 100}% of x_train data')\n",
    "print(f'x_test is {(len(x_test)/len(x_train)) * 100}% of x_train data')\n",
    "print()\n",
    "\n",
    "print('Before one-hot encoding:')\n",
    "print('type(y_train)',type(y_train))\n",
    "print('len(y_train)',len(y_train))\n",
    "print('y_train[0]',y_train[0])\n",
    "print('y_train.shape', y_train.shape)\n",
    "print()\n",
    "\n",
    "# Convert labels to one-hot encoding\n",
    "y_train = keras.utils.to_categorical(y_train, NUM_LABELS)\n",
    "y_test = keras.utils.to_categorical(y_test, NUM_LABELS)\n",
    "y_val = keras.utils.to_categorical(y_val, NUM_LABELS)\n",
    "\n",
    "print('After categorical:')\n",
    "print('len(y_train)', len(y_train))\n",
    "print('type(y_train)', type(y_train))\n",
    "print('y_train.shape', y_train.shape)\n",
    "\n",
    "# Read sign names\n",
    "signnames = read_csv(\"./input_data/signnames.csv\").values[:, 1]"
   ]
  },
  {
   "cell_type": "code",
   "execution_count": 99,
   "id": "932dc00f-f314-4d72-81ca-60386a554a2f",
   "metadata": {},
   "outputs": [
    {
     "name": "stdout",
     "output_type": "stream",
     "text": [
      "signnames ['Speed limit (20km/h)' 'Speed limit (30km/h)' 'Speed limit (50km/h)'\n",
      " 'Speed limit (60km/h)' 'Speed limit (70km/h)' 'Speed limit (80km/h)'\n",
      " 'End of speed limit (80km/h)' 'Speed limit (100km/h)'\n",
      " 'Speed limit (120km/h)' 'No passing'\n",
      " 'No passing for vechiles over 3.5 metric tons'\n",
      " 'Right-of-way at the next intersection' 'Priority road' 'Yield' 'Stop'\n",
      " 'No vechiles' 'Vechiles over 3.5 metric tons prohibited' 'No entry'\n",
      " 'General caution' 'Dangerous curve to the left'\n",
      " 'Dangerous curve to the right' 'Double curve' 'Bumpy road'\n",
      " 'Slippery road' 'Road narrows on the right' 'Road work' 'Traffic signals'\n",
      " 'Pedestrians' 'Children crossing' 'Bicycles crossing'\n",
      " 'Beware of ice/snow' 'Wild animals crossing'\n",
      " 'End of all speed and passing limits' 'Turn right ahead'\n",
      " 'Turn left ahead' 'Ahead only' 'Go straight or right'\n",
      " 'Go straight or left' 'Keep right' 'Keep left' 'Roundabout mandatory'\n",
      " 'End of no passing' 'End of no passing by vechiles over 3.5 metric tons']\n"
     ]
    }
   ],
   "source": [
    "# Read sign names\n",
    "print('signnames', signnames)"
   ]
  },
  {
   "cell_type": "code",
   "execution_count": 100,
   "id": "da2ace1d-006e-41c6-907b-e7e2dafd6e77",
   "metadata": {},
   "outputs": [
    {
     "name": "stdout",
     "output_type": "stream",
     "text": [
      "__________________________________________________________________________________________________\n",
      "Layer (type)                    Output Shape         Param #     Connected to                     \n",
      "==================================================================================================\n",
      "input_10 (InputLayer)           (None, 32, 32, 3)    0                                            \n",
      "__________________________________________________________________________________________________\n",
      "conv2d_28 (Conv2D)              (None, 32, 32, 32)   2432        input_10[0][0]                   \n",
      "__________________________________________________________________________________________________\n",
      "dropout_37 (Dropout)            (None, 32, 32, 32)   0           conv2d_28[0][0]                  \n",
      "__________________________________________________________________________________________________\n",
      "max_pooling2d_46 (MaxPooling2D) (None, 16, 16, 32)   0           dropout_37[0][0]                 \n",
      "__________________________________________________________________________________________________\n",
      "conv2d_29 (Conv2D)              (None, 16, 16, 64)   51264       max_pooling2d_46[0][0]           \n",
      "__________________________________________________________________________________________________\n",
      "dropout_38 (Dropout)            (None, 16, 16, 64)   0           conv2d_29[0][0]                  \n",
      "__________________________________________________________________________________________________\n",
      "max_pooling2d_47 (MaxPooling2D) (None, 8, 8, 64)     0           dropout_38[0][0]                 \n",
      "__________________________________________________________________________________________________\n",
      "conv2d_30 (Conv2D)              (None, 8, 8, 128)    204928      max_pooling2d_47[0][0]           \n",
      "__________________________________________________________________________________________________\n",
      "dropout_39 (Dropout)            (None, 8, 8, 128)    0           conv2d_30[0][0]                  \n",
      "__________________________________________________________________________________________________\n",
      "max_pooling2d_49 (MaxPooling2D) (None, 4, 4, 32)     0           max_pooling2d_46[0][0]           \n",
      "__________________________________________________________________________________________________\n",
      "max_pooling2d_50 (MaxPooling2D) (None, 4, 4, 64)     0           max_pooling2d_47[0][0]           \n",
      "__________________________________________________________________________________________________\n",
      "max_pooling2d_48 (MaxPooling2D) (None, 4, 4, 128)    0           dropout_39[0][0]                 \n",
      "__________________________________________________________________________________________________\n",
      "flatten_28 (Flatten)            (None, 512)          0           max_pooling2d_49[0][0]           \n",
      "__________________________________________________________________________________________________\n",
      "flatten_29 (Flatten)            (None, 1024)         0           max_pooling2d_50[0][0]           \n",
      "__________________________________________________________________________________________________\n",
      "flatten_30 (Flatten)            (None, 2048)         0           max_pooling2d_48[0][0]           \n",
      "__________________________________________________________________________________________________\n",
      "concatenate_10 (Concatenate)    (None, 3584)         0           flatten_28[0][0]                 \n",
      "                                                                 flatten_29[0][0]                 \n",
      "                                                                 flatten_30[0][0]                 \n",
      "__________________________________________________________________________________________________\n",
      "dense_19 (Dense)                (None, 1024)         3671040     concatenate_10[0][0]             \n",
      "__________________________________________________________________________________________________\n",
      "dropout_40 (Dropout)            (None, 1024)         0           dense_19[0][0]                   \n",
      "__________________________________________________________________________________________________\n",
      "dense_20 (Dense)                (None, 43)           44075       dropout_40[0][0]                 \n",
      "==================================================================================================\n",
      "Total params: 3,973,739\n",
      "Trainable params: 3,973,739\n",
      "Non-trainable params: 0\n",
      "__________________________________________________________________________________________________\n"
     ]
    }
   ],
   "source": [
    "model.summary()"
   ]
  },
  {
   "cell_type": "markdown",
   "id": "406a6e79-ecc6-46d7-b326-0dce1ccfe066",
   "metadata": {},
   "source": [
    "### Generate Attacks"
   ]
  },
  {
   "cell_type": "code",
   "execution_count": 101,
   "id": "9335eded-6ae3-4936-917d-e5f1b07b87dd",
   "metadata": {},
   "outputs": [],
   "source": [
    "SAMPLE_IMG_DIR = './images/Original_Traffic_Sign_samples/'\n",
    "SAMPLE_LABEL = './images/Original_Traffic_Sign_samples/labels.txt'"
   ]
  },
  {
   "cell_type": "code",
   "execution_count": 102,
   "id": "4c9a7aa5-b65b-4e41-957e-ed5368c314e7",
   "metadata": {},
   "outputs": [
    {
     "name": "stderr",
     "output_type": "stream",
     "text": [
      "/home/dferna3/.conda/envs/myenv3/lib/python3.6/site-packages/scipy/ndimage/measurements.py:431: FutureWarning: Conversion of the second argument of issubdtype from `int` to `np.signedinteger` is deprecated. In future, it will be treated as `np.int64 == np.dtype(int).type`.\n",
      "  safe = ((np.issubdtype(dt, int) and dt.itemsize <= int_size) or\n",
      "/home/dferna3/.conda/envs/myenv3/lib/python3.6/site-packages/scipy/misc/pilutil.py:482: FutureWarning: Conversion of the second argument of issubdtype from `int` to `np.signedinteger` is deprecated. In future, it will be treated as `np.int64 == np.dtype(int).type`.\n",
      "  if issubdtype(ts, int):\n",
      "/home/dferna3/.conda/envs/myenv3/lib/python3.6/site-packages/scipy/misc/pilutil.py:485: FutureWarning: Conversion of the second argument of issubdtype from `float` to `np.floating` is deprecated. In future, it will be treated as `np.float64 == np.dtype(float).type`.\n",
      "  elif issubdtype(type(size), float):\n"
     ]
    }
   ],
   "source": [
    "# Load sample images, labels and masks\n",
    "x_smp, x_smp_full, y_smp, masks, masks_full = load_samples(SAMPLE_IMG_DIR, SAMPLE_LABEL)"
   ]
  },
  {
   "cell_type": "markdown",
   "id": "c5c63fd1-8715-4e83-9715-bf9607635408",
   "metadata": {},
   "source": [
    "## Fast Gradient\n",
    "* Here I generate *size* adversarial examples with the **Fast Gradient** attack and measure the accuracy of the model"
   ]
  },
  {
   "cell_type": "code",
   "execution_count": 103,
   "id": "f1da3ae4-4d5f-4bf2-8b55-56d8ceaa1321",
   "metadata": {},
   "outputs": [
    {
     "name": "stdout",
     "output_type": "stream",
     "text": [
      "Target class: No passing for vechiles over 3.5 metric tons\n"
     ]
    }
   ],
   "source": [
    "# Set target class to attack\n",
    "tg = 10\n",
    "print(\"Target class: \" + signnames[tg])\n",
    "# Set number of samples\n",
    "size = 100\n",
    "\n",
    "y_target = np.zeros((len(x_test))) + tg\n",
    "y_target = keras.utils.to_categorical(y_target, NUM_LABELS)\n",
    "\n",
    "# Filter samples (originally misclassified, originally classified as target)\n",
    "x_fil, y_fil, del_id = filter_samples(model, x_smp, y_smp, y_target=y_target)\n",
    "x_fil_full = np.delete(x_smp_full, del_id, axis=0)\n",
    "masks_fil = np.delete(masks, del_id, axis=0)\n",
    "masks_fil_full = np.delete(masks_full, del_id, axis=0)\n",
    "\n",
    "# Set samples to attack (choose some samples by random)\n",
    "ind = np.random.choice(range(len(y_fil)), size=size)\n",
    "x_ben = np.copy(x_fil[ind])\n",
    "x_ben_full = np.copy(x_fil_full[ind])\n",
    "y_ben = np.copy(y_fil[ind])\n",
    "y_tg = np.copy(y_target[ind])\n",
    "masks_ben = np.copy(masks_fil[ind])\n",
    "masks_ben_full = np.copy(masks_fil_full[ind])"
   ]
  },
  {
   "cell_type": "code",
   "execution_count": 104,
   "id": "75952e13-6044-442a-b34a-8466651eef8c",
   "metadata": {},
   "outputs": [
    {
     "name": "stdout",
     "output_type": "stream",
     "text": [
      "len(y_tg) 100\n",
      "len(x_ben) 100\n",
      "len(x_ben_full) 100\n",
      "len(masks_ben) 100\n"
     ]
    }
   ],
   "source": [
    "print('len(y_tg)',len(y_tg))\n",
    "print('len(x_ben)',len(x_ben))\n",
    "print('len(x_ben_full)',len(x_ben_full))\n",
    "print('len(masks_ben)',len(masks_ben))"
   ]
  },
  {
   "cell_type": "code",
   "execution_count": 105,
   "id": "3e6684cc-dba0-45a5-8dae-0bf30393db0a",
   "metadata": {},
   "outputs": [
    {
     "name": "stderr",
     "output_type": "stream",
     "text": [
      "/home/dferna3/advml-traffic-sign/lib/attacks.py:51: RuntimeWarning: invalid value encountered in true_divide\n",
      "  grad /= np.linalg.norm(grad)\n"
     ]
    }
   ],
   "source": [
    "# Specify list of magnitudes\n",
    "mag_list = np.linspace(1.0, 2.0, 6)\n",
    "# Generate fast_gradient examples\n",
    "x_fg = fg(model, x_ben, y_tg, mag_list, target=True, mask=masks_ben)"
   ]
  },
  {
   "cell_type": "code",
   "execution_count": 106,
   "id": "5da67419-33d8-46e9-8880-7162fb997368",
   "metadata": {},
   "outputs": [
    {
     "name": "stdout",
     "output_type": "stream",
     "text": [
      "type(x_fg) <class 'numpy.ndarray'>\n",
      "len(x_fg) 6\n",
      "type(x_fg[5] <class 'numpy.ndarray'>\n",
      "len(x_fg[5]) 100\n"
     ]
    }
   ],
   "source": [
    "print('type(x_fg)', type(x_fg))\n",
    "print('len(x_fg)', len(x_fg))\n",
    "print('type(x_fg[5]',type(x_fg[5]))\n",
    "print('len(x_fg[5])',len(x_fg[5]))"
   ]
  },
  {
   "cell_type": "markdown",
   "id": "4ee2fa3f-2635-4f9d-8717-a6ee643cb18d",
   "metadata": {},
   "source": [
    "Here we show 3 images generated by the **Fast Gradient** attack"
   ]
  },
  {
   "cell_type": "code",
   "execution_count": 127,
   "id": "9d078fbf-e6fa-4110-b4cd-a5c4ad5fb658",
   "metadata": {},
   "outputs": [
    {
     "name": "stdout",
     "output_type": "stream",
     "text": [
      "Original class: Speed limit (30km/h)\n"
     ]
    },
    {
     "data": {
      "image/png": "[encoded data removed]",
      "text/plain": [
       "<Figure size 432x288 with 1 Axes>"
      ]
     },
     "metadata": {
      "needs_background": "light"
     },
     "output_type": "display_data"
    },
    {
     "name": "stdout",
     "output_type": "stream",
     "text": [
      "Adversarial class: Speed limit (30km/h)\n"
     ]
    },
    {
     "data": {
      "image/png": "[encoded data removed]",
      "text/plain": [
       "<Figure size 432x288 with 1 Axes>"
      ]
     },
     "metadata": {
      "needs_background": "light"
     },
     "output_type": "display_data"
    },
    {
     "name": "stdout",
     "output_type": "stream",
     "text": [
      "********************************************\n",
      "Original class: Speed limit (30km/h)\n"
     ]
    },
    {
     "data": {
      "image/png": "[encoded data removed]",
      "text/plain": [
       "<Figure size 432x288 with 1 Axes>"
      ]
     },
     "metadata": {
      "needs_background": "light"
     },
     "output_type": "display_data"
    },
    {
     "name": "stdout",
     "output_type": "stream",
     "text": [
      "Adversarial class: Speed limit (30km/h)\n"
     ]
    },
    {
     "data": {
      "image/png": "[encoded data removed]",
      "text/plain": [
       "<Figure size 432x288 with 1 Axes>"
      ]
     },
     "metadata": {
      "needs_background": "light"
     },
     "output_type": "display_data"
    },
    {
     "name": "stdout",
     "output_type": "stream",
     "text": [
      "********************************************\n",
      "Original class: Speed limit (30km/h)\n"
     ]
    },
    {
     "data": {
      "image/png": "[encoded data removed]",
      "text/plain": [
       "<Figure size 432x288 with 1 Axes>"
      ]
     },
     "metadata": {
      "needs_background": "light"
     },
     "output_type": "display_data"
    },
    {
     "name": "stdout",
     "output_type": "stream",
     "text": [
      "Adversarial class: Speed limit (30km/h)\n"
     ]
    },
    {
     "data": {
      "image/png": "[encoded data removed]",
      "text/plain": [
       "<Figure size 432x288 with 1 Axes>"
      ]
     },
     "metadata": {
      "needs_background": "light"
     },
     "output_type": "display_data"
    },
    {
     "name": "stdout",
     "output_type": "stream",
     "text": [
      "********************************************\n"
     ]
    }
   ],
   "source": [
    "for i in range(3):\n",
    "    im = x_ben[i]\n",
    "    print(\"Original class: \" + signnames[predict(model, im)])\n",
    "    plt.imshow(im)\n",
    "    plt.axis('off')\n",
    "    plt.show()\n",
    "\n",
    "    im = x_fg[5, i]\n",
    "    print(\"Adversarial class: \" + signnames[predict(model, im)])\n",
    "    plt.imshow(im)\n",
    "    plt.axis('off')\n",
    "    plt.show()\n",
    "    print('********************************************')"
   ]
  },
  {
   "cell_type": "code",
   "execution_count": 111,
   "id": "f3d24170-8047-4c8a-a195-6ea0bff3b7e7",
   "metadata": {},
   "outputs": [
    {
     "name": "stdout",
     "output_type": "stream",
     "text": [
      "incorrect 78\n",
      "len(md_imgs) 100\n",
      "md_imgs.shape (100, 32, 32, 3)\n",
      "len(md_label) 100\n",
      "md_label.shape (100,)\n",
      "accuracy: 0.22\n"
     ]
    }
   ],
   "source": [
    "#md_imgs = miss-detected images\n",
    "#md_label = miss-detected labels\n",
    "md_imgs = np.zeros((size, 32, 32, 3))\n",
    "md_label = np.zeros((size))\n",
    "incorrect = 0\n",
    "for i in range(size):\n",
    "    im = x_ben[i]\n",
    "    #print(x_ben[i].shape)\n",
    "    og_pred = predict(model, im)\n",
    "    og_class = signnames[og_pred]\n",
    "    \n",
    "    im_fg = x_fg[5, i]\n",
    "    #print('og_class:', og_class)\n",
    "    adv_class = signnames[predict(model, im_fg)]\n",
    "    \n",
    "    #print('adv_class', adv_class)\n",
    "    if og_class != adv_class:\n",
    "        md_label[i] = og_pred\n",
    "        md_imgs[i] = im_fg\n",
    "        \n",
    "        incorrect += 1\n",
    "    \n",
    "#print('incorrect', incorrect)\n",
    "#print('len(md_imgs)',len(md_imgs))\n",
    "#print('md_imgs.shape', md_imgs.shape)\n",
    "#print('len(md_label)',len(md_label))\n",
    "#print('md_label.shape', md_label.shape)\n",
    "print('Accuracy of original model:', (size-incorrect)/size)"
   ]
  },
  {
   "cell_type": "markdown",
   "id": "e507c1ac-6bbd-430e-86b8-177367bcce76",
   "metadata": {},
   "source": [
    "### Model based of Fast Gradient miss-detection\n",
    "* Using the adversarial examples that the **og_model** missclassified we train the model to make it more robust\n"
   ]
  },
  {
   "cell_type": "code",
   "execution_count": 113,
   "id": "83cb7199-777d-4e2c-b615-c066456ced69",
   "metadata": {
    "tags": []
   },
   "outputs": [
    {
     "name": "stdout",
     "output_type": "stream",
     "text": [
      "x_adv_val.shape (9, 32, 32, 3)\n",
      "y_adv_val.shape (9,)\n",
      "x_adv_test.shape (26, 32, 32, 3)\n",
      "y_adv_test.shape (26,)\n",
      "x_adv_train.shape (65, 32, 32, 3)\n",
      "y_adv_train.shape (65,)\n"
     ]
    }
   ],
   "source": [
    "# Use same distribution for validation and test data\n",
    "# (13% validation data, 36% = test data)\n",
    "val_idx = int(incorrect * 0.13)-1\n",
    "test_idx = int(incorrect * 0.35)-1 + val_idx\n",
    "#print('train_idx', train_idx)\n",
    "#print('val_idx', val_idx)\n",
    "#print('test_idx', test_idx)\n",
    "x_adv_val = md_imgs[:val_idx]\n",
    "y_adv_val = md_label[:val_idx]\n",
    "print('x_adv_val.shape',x_adv_val.shape)\n",
    "print('y_adv_val.shape',y_adv_val.shape)\n",
    "\n",
    "x_adv_test = md_imgs[val_idx:test_idx]\n",
    "y_adv_test = md_label[val_idx:test_idx]\n",
    "print('x_adv_test.shape',x_adv_test.shape)\n",
    "print('y_adv_test.shape',y_adv_test.shape)\n",
    "\n",
    "x_adv_train = md_imgs[test_idx:]\n",
    "y_adv_train = md_label[test_idx:]\n",
    "print('x_adv_train.shape',x_adv_train.shape)\n",
    "print('y_adv_train.shape',y_adv_train.shape)\n",
    "\n",
    "#print('len(x_adv_val)', len(x_adv_val))\n",
    "#print('type(x_adv_val)', type(x_adv_val))\n",
    "#print('type(x_adv_val[0])', type(x_adv_val[0]))\n",
    "#print('len(y_adv_test)', len(y_adv_test))\n",
    "#md_dict = {'labels': corr_label, 'features': md_imgs}\n",
    "#print(md_dict)"
   ]
  },
  {
   "cell_type": "code",
   "execution_count": 114,
   "id": "40f37513-0f60-4d8f-ad30-4a4bfa1c63f0",
   "metadata": {},
   "outputs": [],
   "source": [
    "# Convert labels to one-hot encoding\n",
    "y_adv_train = keras.utils.to_categorical(y_adv_train, NUM_LABELS)\n",
    "y_adv_test = keras.utils.to_categorical(y_adv_test, NUM_LABELS)\n",
    "y_adv_val = keras.utils.to_categorical(y_adv_val, NUM_LABELS)"
   ]
  },
  {
   "cell_type": "code",
   "execution_count": 115,
   "id": "61372bac-cf15-4823-b458-6500eab3db14",
   "metadata": {},
   "outputs": [
    {
     "name": "stdout",
     "output_type": "stream",
     "text": [
      "type(y_adv_train) <class 'numpy.ndarray'>\n",
      "len(y_adv_train) 65\n",
      "y_adv_train.shape (65, 43)\n",
      "\n",
      "len(y_adv_val) 9\n",
      "y_adv_val.shape (9, 43)\n",
      "\n",
      "len(y_adv_test) 26\n",
      "y_adv_test.shape (26, 43)\n"
     ]
    }
   ],
   "source": [
    "print('type(y_adv_train)', type(y_adv_train))\n",
    "print('len(y_adv_train)', len(y_adv_train))\n",
    "print('y_adv_train.shape', y_adv_train.shape)\n",
    "print()\n",
    "print('len(y_adv_val)', len(y_adv_val))\n",
    "print('y_adv_val.shape', y_adv_val.shape)\n",
    "print()\n",
    "print('len(y_adv_test)', len(y_adv_test))\n",
    "print('y_adv_test.shape', y_adv_test.shape)"
   ]
  },
  {
   "cell_type": "markdown",
   "id": "c8a52bcd-7b9f-4840-9df6-8a831b037692",
   "metadata": {},
   "source": [
    "#### **fg_model** training (model based on **Fast Gradient** miss-detection"
   ]
  },
  {
   "cell_type": "code",
   "execution_count": 116,
   "id": "8bcd9728-cedc-4f51-b40e-25ba86197881",
   "metadata": {},
   "outputs": [
    {
     "name": "stdout",
     "output_type": "stream",
     "text": [
      "Train on 65 samples, validate on 9 samples\n",
      "Epoch 1/100\n",
      "65/65 [==============================] - 1s 16ms/step - loss: 17.7800 - acc: 0.0769 - val_loss: 4.8825 - val_acc: 0.1111\n",
      "Epoch 2/100\n",
      "65/65 [==============================] - 0s 293us/step - loss: 12.0185 - acc: 0.0615 - val_loss: 4.5392 - val_acc: 0.1111\n",
      "Epoch 3/100\n",
      "65/65 [==============================] - 0s 289us/step - loss: 10.3277 - acc: 0.0615 - val_loss: 4.2748 - val_acc: 0.1111\n",
      "Epoch 4/100\n",
      "65/65 [==============================] - 0s 386us/step - loss: 9.8460 - acc: 0.0615 - val_loss: 4.0833 - val_acc: 0.1111\n",
      "Epoch 5/100\n",
      "65/65 [==============================] - 0s 536us/step - loss: 9.3522 - acc: 0.0615 - val_loss: 3.9555 - val_acc: 0.1111\n",
      "Epoch 6/100\n",
      "65/65 [==============================] - 0s 287us/step - loss: 8.2210 - acc: 0.0462 - val_loss: 3.8708 - val_acc: 0.1111\n",
      "Epoch 7/100\n",
      "65/65 [==============================] - 0s 380us/step - loss: 7.1594 - acc: 0.0462 - val_loss: 3.8020 - val_acc: 0.0000e+00\n",
      "Epoch 8/100\n",
      "65/65 [==============================] - 0s 316us/step - loss: 6.6862 - acc: 0.0462 - val_loss: 3.7346 - val_acc: 0.0000e+00\n",
      "Epoch 9/100\n",
      "65/65 [==============================] - 0s 298us/step - loss: 6.1508 - acc: 0.0462 - val_loss: 3.6716 - val_acc: 0.0000e+00\n",
      "Epoch 10/100\n",
      "65/65 [==============================] - 0s 283us/step - loss: 5.1708 - acc: 0.0308 - val_loss: 3.6241 - val_acc: 0.0000e+00\n",
      "Epoch 11/100\n",
      "65/65 [==============================] - 0s 274us/step - loss: 5.1059 - acc: 0.0923 - val_loss: 3.5839 - val_acc: 0.1111\n",
      "Epoch 12/100\n",
      "65/65 [==============================] - 0s 283us/step - loss: 5.5107 - acc: 0.0462 - val_loss: 3.5553 - val_acc: 0.1111\n",
      "Epoch 13/100\n",
      "65/65 [==============================] - 0s 278us/step - loss: 4.3868 - acc: 0.0462 - val_loss: 3.5328 - val_acc: 0.1111\n",
      "Epoch 14/100\n",
      "65/65 [==============================] - 0s 268us/step - loss: 4.3303 - acc: 0.0462 - val_loss: 3.5077 - val_acc: 0.1111\n",
      "Epoch 15/100\n",
      "65/65 [==============================] - 0s 276us/step - loss: 4.4334 - acc: 0.0462 - val_loss: 3.4832 - val_acc: 0.1111\n",
      "Epoch 16/100\n",
      "65/65 [==============================] - 0s 278us/step - loss: 4.2369 - acc: 0.0615 - val_loss: 3.4607 - val_acc: 0.1111\n",
      "Epoch 17/100\n",
      "65/65 [==============================] - 0s 282us/step - loss: 4.0329 - acc: 0.0615 - val_loss: 3.4350 - val_acc: 0.1111\n",
      "Epoch 18/100\n",
      "65/65 [==============================] - 0s 291us/step - loss: 3.7657 - acc: 0.1231 - val_loss: 3.4092 - val_acc: 0.1111\n",
      "Epoch 19/100\n",
      "65/65 [==============================] - 0s 293us/step - loss: 3.9046 - acc: 0.0308 - val_loss: 3.3882 - val_acc: 0.1111\n",
      "Epoch 20/100\n",
      "65/65 [==============================] - 0s 280us/step - loss: 3.6064 - acc: 0.1385 - val_loss: 3.3723 - val_acc: 0.1111\n",
      "Epoch 21/100\n",
      "65/65 [==============================] - 0s 271us/step - loss: 3.8256 - acc: 0.0769 - val_loss: 3.3567 - val_acc: 0.1111\n",
      "Epoch 22/100\n",
      "65/65 [==============================] - 0s 280us/step - loss: 3.5815 - acc: 0.0154 - val_loss: 3.3325 - val_acc: 0.1111\n",
      "Epoch 23/100\n",
      "65/65 [==============================] - 0s 275us/step - loss: 3.4156 - acc: 0.1077 - val_loss: 3.3105 - val_acc: 0.1111\n",
      "Epoch 24/100\n",
      "65/65 [==============================] - 0s 270us/step - loss: 3.4567 - acc: 0.0769 - val_loss: 3.2928 - val_acc: 0.1111\n",
      "Epoch 25/100\n",
      "65/65 [==============================] - 0s 276us/step - loss: 3.4786 - acc: 0.1385 - val_loss: 3.2690 - val_acc: 0.1111\n",
      "Epoch 26/100\n",
      "65/65 [==============================] - 0s 275us/step - loss: 3.2306 - acc: 0.0923 - val_loss: 3.2428 - val_acc: 0.1111\n",
      "Epoch 27/100\n",
      "65/65 [==============================] - 0s 274us/step - loss: 3.5805 - acc: 0.0462 - val_loss: 3.2242 - val_acc: 0.1111\n",
      "Epoch 28/100\n",
      "65/65 [==============================] - 0s 271us/step - loss: 3.6760 - acc: 0.0923 - val_loss: 3.2055 - val_acc: 0.1111\n",
      "Epoch 29/100\n",
      "65/65 [==============================] - 0s 272us/step - loss: 3.3570 - acc: 0.0769 - val_loss: 3.1853 - val_acc: 0.1111\n",
      "Epoch 30/100\n",
      "65/65 [==============================] - 0s 274us/step - loss: 3.3891 - acc: 0.1077 - val_loss: 3.1635 - val_acc: 0.1111\n",
      "Epoch 31/100\n",
      "65/65 [==============================] - 0s 283us/step - loss: 3.3881 - acc: 0.0769 - val_loss: 3.1487 - val_acc: 0.1111\n",
      "Epoch 32/100\n",
      "65/65 [==============================] - 0s 275us/step - loss: 3.4482 - acc: 0.1231 - val_loss: 3.1347 - val_acc: 0.1111\n",
      "Epoch 33/100\n",
      "65/65 [==============================] - 0s 276us/step - loss: 3.2118 - acc: 0.1846 - val_loss: 3.1188 - val_acc: 0.1111\n",
      "Epoch 34/100\n",
      "65/65 [==============================] - 0s 275us/step - loss: 3.4381 - acc: 0.0923 - val_loss: 3.1068 - val_acc: 0.1111\n",
      "Epoch 35/100\n",
      "65/65 [==============================] - 0s 275us/step - loss: 3.3632 - acc: 0.0923 - val_loss: 3.1035 - val_acc: 0.1111\n",
      "Epoch 36/100\n",
      "65/65 [==============================] - 0s 272us/step - loss: 3.1128 - acc: 0.2000 - val_loss: 3.1043 - val_acc: 0.1111\n",
      "Epoch 37/100\n",
      "65/65 [==============================] - 0s 275us/step - loss: 3.0531 - acc: 0.1385 - val_loss: 3.1026 - val_acc: 0.1111\n",
      "Epoch 38/100\n",
      "65/65 [==============================] - 0s 274us/step - loss: 3.3421 - acc: 0.0615 - val_loss: 3.0893 - val_acc: 0.1111\n",
      "Epoch 39/100\n",
      "65/65 [==============================] - 0s 282us/step - loss: 3.1924 - acc: 0.1231 - val_loss: 3.0734 - val_acc: 0.1111\n",
      "Epoch 40/100\n",
      "65/65 [==============================] - 0s 283us/step - loss: 3.2961 - acc: 0.0923 - val_loss: 3.0561 - val_acc: 0.1111\n",
      "Epoch 41/100\n",
      "65/65 [==============================] - 0s 283us/step - loss: 3.2306 - acc: 0.1077 - val_loss: 3.0467 - val_acc: 0.1111\n",
      "Epoch 42/100\n",
      "65/65 [==============================] - 0s 274us/step - loss: 3.1721 - acc: 0.0923 - val_loss: 3.0361 - val_acc: 0.1111\n",
      "Epoch 43/100\n",
      "65/65 [==============================] - 0s 279us/step - loss: 3.5309 - acc: 0.1692 - val_loss: 3.0288 - val_acc: 0.1111\n",
      "Epoch 44/100\n",
      "65/65 [==============================] - 0s 275us/step - loss: 3.3544 - acc: 0.1385 - val_loss: 3.0277 - val_acc: 0.1111\n",
      "Epoch 45/100\n",
      "65/65 [==============================] - 0s 281us/step - loss: 2.9685 - acc: 0.1846 - val_loss: 3.0251 - val_acc: 0.1111\n",
      "Epoch 46/100\n",
      "65/65 [==============================] - 0s 276us/step - loss: 3.2150 - acc: 0.1385 - val_loss: 3.0257 - val_acc: 0.1111\n",
      "Epoch 47/100\n",
      "65/65 [==============================] - 0s 277us/step - loss: 3.1740 - acc: 0.2308 - val_loss: 3.0366 - val_acc: 0.1111\n",
      "Epoch 48/100\n",
      "65/65 [==============================] - 0s 280us/step - loss: 3.1621 - acc: 0.1077 - val_loss: 3.0485 - val_acc: 0.1111\n",
      "Epoch 49/100\n",
      "65/65 [==============================] - 0s 272us/step - loss: 3.1003 - acc: 0.0923 - val_loss: 3.0514 - val_acc: 0.1111\n",
      "Epoch 50/100\n",
      "65/65 [==============================] - 0s 269us/step - loss: 3.3062 - acc: 0.1077 - val_loss: 3.0517 - val_acc: 0.1111\n",
      "Epoch 51/100\n",
      "65/65 [==============================] - 0s 282us/step - loss: 3.1324 - acc: 0.1231 - val_loss: 3.0563 - val_acc: 0.1111\n",
      "Epoch 52/100\n",
      "65/65 [==============================] - 0s 288us/step - loss: 3.1055 - acc: 0.1077 - val_loss: 3.0617 - val_acc: 0.1111\n",
      "Epoch 53/100\n",
      "65/65 [==============================] - 0s 282us/step - loss: 2.9255 - acc: 0.1846 - val_loss: 3.0646 - val_acc: 0.1111\n",
      "Epoch 54/100\n",
      "65/65 [==============================] - 0s 278us/step - loss: 3.2167 - acc: 0.0923 - val_loss: 3.0599 - val_acc: 0.1111\n",
      "Epoch 55/100\n",
      "65/65 [==============================] - 0s 272us/step - loss: 3.1435 - acc: 0.0923 - val_loss: 3.0589 - val_acc: 0.1111\n",
      "Epoch 56/100\n",
      "65/65 [==============================] - 0s 274us/step - loss: 2.9232 - acc: 0.1692 - val_loss: 3.0583 - val_acc: 0.1111\n",
      "Epoch 57/100\n",
      "65/65 [==============================] - 0s 272us/step - loss: 2.7815 - acc: 0.2462 - val_loss: 3.0576 - val_acc: 0.1111\n",
      "Epoch 58/100\n",
      "65/65 [==============================] - 0s 280us/step - loss: 2.8900 - acc: 0.1385 - val_loss: 3.0579 - val_acc: 0.1111\n",
      "Epoch 59/100\n",
      "65/65 [==============================] - 0s 276us/step - loss: 2.9154 - acc: 0.1231 - val_loss: 3.0544 - val_acc: 0.1111\n",
      "Epoch 60/100\n",
      "65/65 [==============================] - 0s 292us/step - loss: 3.0959 - acc: 0.1077 - val_loss: 3.0463 - val_acc: 0.1111\n",
      "Epoch 61/100\n",
      "65/65 [==============================] - 0s 274us/step - loss: 3.1774 - acc: 0.0923 - val_loss: 3.0464 - val_acc: 0.1111\n",
      "Epoch 62/100\n",
      "65/65 [==============================] - 0s 273us/step - loss: 2.9500 - acc: 0.1538 - val_loss: 3.0489 - val_acc: 0.1111\n",
      "Epoch 63/100\n",
      "65/65 [==============================] - 0s 274us/step - loss: 3.2071 - acc: 0.1077 - val_loss: 3.0532 - val_acc: 0.1111\n",
      "Epoch 64/100\n",
      "65/65 [==============================] - 0s 271us/step - loss: 3.0792 - acc: 0.1077 - val_loss: 3.0497 - val_acc: 0.1111\n",
      "Epoch 65/100\n",
      "65/65 [==============================] - 0s 284us/step - loss: 3.0349 - acc: 0.1231 - val_loss: 3.0507 - val_acc: 0.1111\n",
      "Epoch 66/100\n",
      "65/65 [==============================] - 0s 278us/step - loss: 2.9698 - acc: 0.1077 - val_loss: 3.0574 - val_acc: 0.1111\n",
      "Epoch 67/100\n",
      "65/65 [==============================] - 0s 276us/step - loss: 3.0043 - acc: 0.1231 - val_loss: 3.0611 - val_acc: 0.1111\n",
      "Epoch 68/100\n",
      "65/65 [==============================] - 0s 272us/step - loss: 3.0297 - acc: 0.1231 - val_loss: 3.0610 - val_acc: 0.1111\n",
      "Epoch 69/100\n",
      "65/65 [==============================] - 0s 279us/step - loss: 3.1197 - acc: 0.1231 - val_loss: 3.0554 - val_acc: 0.1111\n",
      "Epoch 70/100\n",
      "65/65 [==============================] - 0s 277us/step - loss: 3.2797 - acc: 0.0615 - val_loss: 3.0505 - val_acc: 0.1111\n",
      "Epoch 71/100\n",
      "65/65 [==============================] - 0s 285us/step - loss: 2.9755 - acc: 0.1385 - val_loss: 3.0420 - val_acc: 0.1111\n",
      "Epoch 72/100\n",
      "65/65 [==============================] - 0s 278us/step - loss: 2.9507 - acc: 0.1385 - val_loss: 3.0388 - val_acc: 0.1111\n",
      "Epoch 73/100\n",
      "65/65 [==============================] - 0s 280us/step - loss: 2.9709 - acc: 0.1846 - val_loss: 3.0363 - val_acc: 0.1111\n",
      "Epoch 74/100\n",
      "65/65 [==============================] - 0s 279us/step - loss: 2.9941 - acc: 0.1538 - val_loss: 3.0261 - val_acc: 0.1111\n",
      "Epoch 75/100\n",
      "65/65 [==============================] - 0s 299us/step - loss: 2.8861 - acc: 0.1538 - val_loss: 3.0065 - val_acc: 0.1111\n",
      "Epoch 76/100\n",
      "65/65 [==============================] - 0s 280us/step - loss: 2.9035 - acc: 0.2154 - val_loss: 2.9864 - val_acc: 0.1111\n",
      "Epoch 77/100\n",
      "65/65 [==============================] - 0s 274us/step - loss: 3.0389 - acc: 0.1231 - val_loss: 2.9755 - val_acc: 0.1111\n",
      "Epoch 78/100\n",
      "65/65 [==============================] - 0s 281us/step - loss: 3.1401 - acc: 0.1385 - val_loss: 2.9721 - val_acc: 0.1111\n",
      "Epoch 79/100\n",
      "65/65 [==============================] - 0s 277us/step - loss: 3.0562 - acc: 0.1846 - val_loss: 2.9767 - val_acc: 0.1111\n",
      "Epoch 80/100\n",
      "65/65 [==============================] - 0s 272us/step - loss: 3.1965 - acc: 0.1385 - val_loss: 2.9812 - val_acc: 0.1111\n",
      "Epoch 81/100\n",
      "65/65 [==============================] - 0s 281us/step - loss: 3.0198 - acc: 0.2000 - val_loss: 2.9753 - val_acc: 0.1111\n",
      "Epoch 82/100\n",
      "65/65 [==============================] - 0s 279us/step - loss: 2.8359 - acc: 0.2000 - val_loss: 2.9656 - val_acc: 0.1111\n",
      "Epoch 83/100\n",
      "65/65 [==============================] - 0s 281us/step - loss: 3.2338 - acc: 0.1231 - val_loss: 2.9626 - val_acc: 0.1111\n",
      "Epoch 84/100\n",
      "65/65 [==============================] - 0s 285us/step - loss: 3.2047 - acc: 0.1077 - val_loss: 2.9661 - val_acc: 0.1111\n",
      "Epoch 85/100\n",
      "65/65 [==============================] - 0s 278us/step - loss: 3.0604 - acc: 0.1692 - val_loss: 2.9748 - val_acc: 0.1111\n",
      "Epoch 86/100\n",
      "65/65 [==============================] - 0s 274us/step - loss: 2.9557 - acc: 0.2308 - val_loss: 2.9873 - val_acc: 0.1111\n",
      "Epoch 87/100\n",
      "65/65 [==============================] - 0s 282us/step - loss: 2.9904 - acc: 0.1692 - val_loss: 2.9952 - val_acc: 0.1111\n",
      "Epoch 88/100\n",
      "65/65 [==============================] - 0s 271us/step - loss: 3.0092 - acc: 0.0923 - val_loss: 2.9953 - val_acc: 0.1111\n",
      "Epoch 89/100\n",
      "65/65 [==============================] - 0s 275us/step - loss: 3.1440 - acc: 0.1077 - val_loss: 2.9865 - val_acc: 0.1111\n",
      "Epoch 90/100\n",
      "65/65 [==============================] - 0s 274us/step - loss: 2.8427 - acc: 0.1385 - val_loss: 2.9771 - val_acc: 0.1111\n",
      "Epoch 91/100\n",
      "65/65 [==============================] - 0s 281us/step - loss: 3.0189 - acc: 0.1385 - val_loss: 2.9735 - val_acc: 0.1111\n",
      "Epoch 92/100\n",
      "65/65 [==============================] - 0s 276us/step - loss: 2.8991 - acc: 0.1692 - val_loss: 2.9746 - val_acc: 0.1111\n",
      "Epoch 93/100\n",
      "65/65 [==============================] - 0s 271us/step - loss: 2.9038 - acc: 0.1231 - val_loss: 2.9715 - val_acc: 0.1111\n",
      "Epoch 94/100\n",
      "65/65 [==============================] - 0s 280us/step - loss: 3.0275 - acc: 0.2000 - val_loss: 2.9685 - val_acc: 0.1111\n",
      "Epoch 95/100\n",
      "65/65 [==============================] - 0s 273us/step - loss: 2.9482 - acc: 0.1385 - val_loss: 2.9638 - val_acc: 0.1111\n",
      "Epoch 96/100\n",
      "65/65 [==============================] - 0s 272us/step - loss: 2.8467 - acc: 0.1077 - val_loss: 2.9641 - val_acc: 0.1111\n",
      "Epoch 97/100\n",
      "65/65 [==============================] - 0s 285us/step - loss: 2.9520 - acc: 0.1846 - val_loss: 2.9700 - val_acc: 0.1111\n",
      "Epoch 98/100\n",
      "65/65 [==============================] - 0s 274us/step - loss: 3.0480 - acc: 0.1385 - val_loss: 2.9797 - val_acc: 0.1111\n",
      "Epoch 99/100\n",
      "65/65 [==============================] - 0s 282us/step - loss: 2.7320 - acc: 0.1846 - val_loss: 2.9875 - val_acc: 0.1111\n",
      "Epoch 100/100\n",
      "65/65 [==============================] - 0s 280us/step - loss: 2.9797 - acc: 0.1077 - val_loss: 2.9925 - val_acc: 0.1111\n"
     ]
    },
    {
     "data": {
      "text/plain": [
       "<keras.callbacks.History at 0x1478cc7f3f98>"
      ]
     },
     "execution_count": 116,
     "metadata": {},
     "output_type": "execute_result"
    }
   ],
   "source": [
    "fg_model = model\n",
    "\n",
    "# Path to save weights\n",
    "filepath = './fg_model_weights/weights.{epoch:02d}-{val_loss:.2f}.hdf5'\n",
    "\n",
    "# Callback function to save weights every epoch\n",
    "modelCheckpoint = keras.callbacks.ModelCheckpoint(\n",
    "    filepath,\n",
    "    monitor='val_loss',\n",
    "    verbose=0,\n",
    "    save_best_only=False,\n",
    "    save_weights_only=False,\n",
    "    mode='auto',\n",
    "    period=1)\n",
    "\n",
    "fg_model.fit(x_adv_train,\n",
    "             y_adv_train,\n",
    "             batch_size=BATCH_SIZE,\n",
    "             epochs=NUM_EPOCH,\n",
    "             verbose=1,\n",
    "             callbacks=[modelCheckpoint],\n",
    "             validation_data=(x_adv_val, y_adv_val),\n",
    "             shuffle=True,\n",
    "             initial_epoch=0)"
   ]
  },
  {
   "cell_type": "markdown",
   "id": "7aab6152-469d-42ec-a944-ae3b9490c4ca",
   "metadata": {},
   "source": [
    "Regenerate *size* adversarial examples with the **Fast Gradient** attack and measure of accuracy of the model"
   ]
  },
  {
   "cell_type": "code",
   "execution_count": 122,
   "id": "9662c4c1-9b53-4f6b-95ce-662f5244fb99",
   "metadata": {},
   "outputs": [
    {
     "name": "stdout",
     "output_type": "stream",
     "text": [
      "Target class: No passing for vechiles over 3.5 metric tons\n"
     ]
    }
   ],
   "source": [
    "# Set target class to attack\n",
    "tg = 10\n",
    "#print(\"Target class: \" + signnames[tg])\n",
    "# Set number of samples\n",
    "size = 100\n",
    "\n",
    "y_target = np.zeros((len(x_test))) + tg\n",
    "y_target = keras.utils.to_categorical(y_target, NUM_LABELS)\n",
    "\n",
    "# Filter samples (originally misclassified, originally classified as target)\n",
    "x_fil, y_fil, del_id = filter_samples(model, x_smp, y_smp, y_target=y_target)\n",
    "x_fil_full = np.delete(x_smp_full, del_id, axis=0)\n",
    "masks_fil = np.delete(masks, del_id, axis=0)\n",
    "masks_fil_full = np.delete(masks_full, del_id, axis=0)\n",
    "\n",
    "# Set samples to attack (choose some samples by random)\n",
    "ind = np.random.choice(range(len(y_fil)), size=size)\n",
    "x_ben = np.copy(x_fil[ind])\n",
    "x_ben_full = np.copy(x_fil_full[ind])\n",
    "y_ben = np.copy(y_fil[ind])\n",
    "y_tg = np.copy(y_target[ind])\n",
    "masks_ben = np.copy(masks_fil[ind])\n",
    "masks_ben_full = np.copy(masks_fil_full[ind])"
   ]
  },
  {
   "cell_type": "markdown",
   "id": "213ad7b0-06ff-4b3e-83b2-54a5d5d043bb",
   "metadata": {},
   "source": [
    "We can see that the **fg_model** is no longer subject to adversarial samples generated with the **Fast gradient attack**"
   ]
  },
  {
   "cell_type": "code",
   "execution_count": 123,
   "id": "cc7aa344-0d8e-497a-a4e5-fc1ffceb0282",
   "metadata": {},
   "outputs": [
    {
     "name": "stdout",
     "output_type": "stream",
     "text": [
      "incorrect 0\n",
      "len(md_imgs) 100\n",
      "md_imgs.shape (100, 32, 32, 3)\n",
      "len(md_label) 100\n",
      "md_label.shape (100,)\n",
      "Accuracy of original model: 1.0\n"
     ]
    }
   ],
   "source": [
    "md_imgs = np.zeros((size, 32, 32, 3))\n",
    "md_label = np.zeros((size))\n",
    "incorrect = 0\n",
    "for i in range(size):\n",
    "    im = x_ben[i]\n",
    "    #print(x_ben[i].shape)\n",
    "    og_pred = predict(fg_model, im)\n",
    "    og_class = signnames[og_pred]\n",
    "    \n",
    "    im_fg = x_fg[5, i]\n",
    "    #print('og_class:', og_class)\n",
    "    adv_class = signnames[predict(fg_model, im_fg)]\n",
    "    \n",
    "    #print('adv_class', adv_class)\n",
    "    if og_class != adv_class:\n",
    "        md_label[i] = og_pred\n",
    "        md_imgs[i] = im_fg\n",
    "        \n",
    "        incorrect += 1\n",
    "    \n",
    "print('incorrect', incorrect)\n",
    "print('len(md_imgs)',len(md_imgs))\n",
    "print('md_imgs.shape', md_imgs.shape)\n",
    "print('len(md_label)',len(md_label))\n",
    "print('md_label.shape', md_label.shape)\n",
    "print('Accuracy of original model:', (size-incorrect)/size)"
   ]
  },
  {
   "cell_type": "markdown",
   "id": "5daac249-11b3-4908-ae26-38c2f751bd69",
   "metadata": {},
   "source": [
    "#### Error Rate"
   ]
  },
  {
   "cell_type": "code",
   "execution_count": 124,
   "id": "207df7cb-0b16-49b5-b853-12794720e148",
   "metadata": {},
   "outputs": [
    {
     "name": "stdout",
     "output_type": "stream",
     "text": [
      "error_rate: 94.29928741092637%\n"
     ]
    }
   ],
   "source": [
    "x = K.placeholder(shape=(None, HEIGHT, WIDTH, N_CHANNEL))\n",
    "error_rate = tf_test_error_rate(fg_model, x, x_test, y_test)\n",
    "print(f'error_rate: {error_rate[-1]}%')"
   ]
  },
  {
   "cell_type": "markdown",
   "id": "e27ccff1-3684-4945-9a9a-8873cf02d471",
   "metadata": {},
   "source": [
    "## Iterative Attack\n",
    "* Here I generate *size* adversarial examples with the **Iterative Attack** attack and measure the accuracy of the model"
   ]
  },
  {
   "cell_type": "code",
   "execution_count": 149,
   "id": "74eaa7e4-7567-410b-9c8e-c5ae1876bf7a",
   "metadata": {},
   "outputs": [],
   "source": [
    "# Build and load trained model\n",
    "#model = built_mltscl()\n",
    "model = build_mltscl()\n",
    "\n",
    "model.load_weights(WEIGTHS_PATH)\n",
    "\n",
    "# Load dataset\n",
    "x_train, y_train, x_val, y_val, x_test, y_test = load_dataset_GTSRB(\n",
    "    n_channel=N_CHANNEL)\n",
    "\n",
    "# Convert labels to one-hot encoding\n",
    "y_train = keras.utils.to_categorical(y_train, NUM_LABELS)\n",
    "y_test = keras.utils.to_categorical(y_test, NUM_LABELS)\n",
    "y_val = keras.utils.to_categorical(y_val, NUM_LABELS)\n",
    "\n",
    "# Read sign names\n",
    "signnames = read_csv(\"./input_data/signnames.csv\").values[:, 1]"
   ]
  },
  {
   "cell_type": "code",
   "execution_count": 150,
   "id": "adf87c49-4e87-4a30-9062-239db793163e",
   "metadata": {},
   "outputs": [
    {
     "name": "stderr",
     "output_type": "stream",
     "text": [
      "/home/dferna3/.conda/envs/myenv3/lib/python3.6/site-packages/scipy/ndimage/measurements.py:431: FutureWarning: Conversion of the second argument of issubdtype from `int` to `np.signedinteger` is deprecated. In future, it will be treated as `np.int64 == np.dtype(int).type`.\n",
      "  safe = ((np.issubdtype(dt, int) and dt.itemsize <= int_size) or\n",
      "/home/dferna3/.conda/envs/myenv3/lib/python3.6/site-packages/scipy/misc/pilutil.py:482: FutureWarning: Conversion of the second argument of issubdtype from `int` to `np.signedinteger` is deprecated. In future, it will be treated as `np.int64 == np.dtype(int).type`.\n",
      "  if issubdtype(ts, int):\n",
      "/home/dferna3/.conda/envs/myenv3/lib/python3.6/site-packages/scipy/misc/pilutil.py:485: FutureWarning: Conversion of the second argument of issubdtype from `float` to `np.floating` is deprecated. In future, it will be treated as `np.float64 == np.dtype(float).type`.\n",
      "  elif issubdtype(type(size), float):\n"
     ]
    }
   ],
   "source": [
    "# Load sample images, labels and masks\n",
    "x_smp, x_smp_full, y_smp, masks, masks_full = load_samples(SAMPLE_IMG_DIR, SAMPLE_LABEL)"
   ]
  },
  {
   "cell_type": "code",
   "execution_count": 151,
   "id": "f7cf1e79-b2f4-4c24-bfc0-80c61a31d88b",
   "metadata": {
    "tags": []
   },
   "outputs": [],
   "source": [
    "# Set target class to attack\n",
    "tg = 10\n",
    "#print(\"Target class: \" + signnames[tg])\n",
    "# Set number of samples\n",
    "size = 100\n",
    "\n",
    "y_target = np.zeros((len(x_test))) + tg\n",
    "y_target = keras.utils.to_categorical(y_target, NUM_LABELS)\n",
    "\n",
    "# Filter samples (originally misclassified, originally classified as target)\n",
    "x_fil, y_fil, del_id = filter_samples(model, x_smp, y_smp, y_target=y_target)\n",
    "x_fil_full = np.delete(x_smp_full, del_id, axis=0)\n",
    "masks_fil = np.delete(masks, del_id, axis=0)\n",
    "masks_fil_full = np.delete(masks_full, del_id, axis=0)\n",
    "\n",
    "# Set samples to attack (choose some samples by random)\n",
    "ind = np.random.choice(range(len(y_fil)), size=size)\n",
    "x_ben = np.copy(x_fil[ind])\n",
    "x_ben_full = np.copy(x_fil_full[ind])\n",
    "y_ben = np.copy(y_fil[ind])\n",
    "y_tg = np.copy(y_target[ind])\n",
    "masks_ben = np.copy(masks_fil[ind])\n",
    "masks_ben_full = np.copy(masks_fil_full[ind])"
   ]
  },
  {
   "cell_type": "code",
   "execution_count": 152,
   "id": "7fee8540-c51d-4bd2-a23d-98417f2a7b5f",
   "metadata": {},
   "outputs": [
    {
     "name": "stderr",
     "output_type": "stream",
     "text": [
      "/home/dferna3/advml-traffic-sign/lib/attacks.py:122: RuntimeWarning: invalid value encountered in true_divide\n",
      "  grad /= np.linalg.norm(grad)\n"
     ]
    }
   ],
   "source": [
    "x_it = iterative(model, x_ben, y_tg, n_step=32, step_size=0.05, target=True, mask=masks_ben)"
   ]
  },
  {
   "cell_type": "markdown",
   "id": "408a7460-0b22-44d4-8d86-0d7fc51cf94e",
   "metadata": {},
   "source": [
    "Here I show *n* of the generated adversarial examples with the **Iterative Attack**"
   ]
  },
  {
   "cell_type": "code",
   "execution_count": 153,
   "id": "912eefe3-6647-4ee0-a28b-539f43670650",
   "metadata": {},
   "outputs": [
    {
     "name": "stdout",
     "output_type": "stream",
     "text": [
      "Original class: Speed limit (50km/h)\n"
     ]
    },
    {
     "data": {
      "image/png": "[encoded data removed]",
      "text/plain": [
       "<Figure size 432x288 with 1 Axes>"
      ]
     },
     "metadata": {
      "needs_background": "light"
     },
     "output_type": "display_data"
    },
    {
     "name": "stdout",
     "output_type": "stream",
     "text": [
      "Adversarial class: Speed limit (70km/h)\n"
     ]
    },
    {
     "data": {
      "image/png": "[encoded data removed]",
      "text/plain": [
       "<Figure size 432x288 with 1 Axes>"
      ]
     },
     "metadata": {
      "needs_background": "light"
     },
     "output_type": "display_data"
    },
    {
     "name": "stdout",
     "output_type": "stream",
     "text": [
      "****************************************************\n",
      "Original class: Keep left\n"
     ]
    },
    {
     "data": {
      "image/png": "[encoded data removed]",
      "text/plain": [
       "<Figure size 432x288 with 1 Axes>"
      ]
     },
     "metadata": {
      "needs_background": "light"
     },
     "output_type": "display_data"
    },
    {
     "name": "stdout",
     "output_type": "stream",
     "text": [
      "Adversarial class: Roundabout mandatory\n"
     ]
    },
    {
     "data": {
      "image/png": "[encoded data removed]",
      "text/plain": [
       "<Figure size 432x288 with 1 Axes>"
      ]
     },
     "metadata": {
      "needs_background": "light"
     },
     "output_type": "display_data"
    },
    {
     "name": "stdout",
     "output_type": "stream",
     "text": [
      "****************************************************\n",
      "Original class: Dangerous curve to the right\n"
     ]
    },
    {
     "data": {
      "image/png": "[encoded data removed]",
      "text/plain": [
       "<Figure size 432x288 with 1 Axes>"
      ]
     },
     "metadata": {
      "needs_background": "light"
     },
     "output_type": "display_data"
    },
    {
     "name": "stdout",
     "output_type": "stream",
     "text": [
      "Adversarial class: Bicycles crossing\n"
     ]
    },
    {
     "data": {
      "image/png": "[encoded data removed]",
      "text/plain": [
       "<Figure size 432x288 with 1 Axes>"
      ]
     },
     "metadata": {
      "needs_background": "light"
     },
     "output_type": "display_data"
    },
    {
     "name": "stdout",
     "output_type": "stream",
     "text": [
      "****************************************************\n"
     ]
    }
   ],
   "source": [
    "n = 3\n",
    "\n",
    "for i in range(n):\n",
    "    im = x_ben[i]\n",
    "    print(\"Original class: \" + signnames[predict(model, im)])\n",
    "    plt.imshow(im)\n",
    "    plt.axis('off')\n",
    "    plt.show()\n",
    "\n",
    "    im = x_it[i]\n",
    "    print(\"Adversarial class: \" + signnames[predict(model, im)])\n",
    "    plt.imshow(im)\n",
    "    plt.axis('off')\n",
    "    plt.show()\n",
    "    print('****************************************************')"
   ]
  },
  {
   "cell_type": "markdown",
   "id": "576006ec-15cd-4a89-bacc-38feaa616c3f",
   "metadata": {},
   "source": [
    "### Model based of Iterative attack miss-detection\n",
    "* Using the adversarial examples that the **og_model** missclassified we train the model to make it more robust"
   ]
  },
  {
   "cell_type": "code",
   "execution_count": 154,
   "id": "033eb703-1486-47c8-95ac-ef3a31b785d3",
   "metadata": {},
   "outputs": [
    {
     "name": "stdout",
     "output_type": "stream",
     "text": [
      "Accuracy of original model: 0.24\n"
     ]
    }
   ],
   "source": [
    "#md_imgs = miss-detected images\n",
    "#md_label = miss-detected labels\n",
    "md_imgs = np.zeros((size, 32, 32, 3))\n",
    "md_label = np.zeros((size))\n",
    "incorrect = 0\n",
    "for i in range(size):\n",
    "    im = x_ben[i]\n",
    "    #print(x_ben[i].shape)\n",
    "    og_pred = predict(model, im)\n",
    "    og_class = signnames[og_pred]\n",
    "    \n",
    "    im_fg = x_it[i]\n",
    "    #print('og_class:', og_class)\n",
    "    adv_class = signnames[predict(model, im_fg)]\n",
    "    \n",
    "    #print('adv_class', adv_class)\n",
    "    if og_class != adv_class:\n",
    "        md_label[i] = og_pred\n",
    "        md_imgs[i] = im_fg\n",
    "        \n",
    "        incorrect += 1\n",
    "    \n",
    "#print('incorrect', incorrect)\n",
    "#print('len(md_imgs)',len(md_imgs))\n",
    "#print('md_imgs.shape', md_imgs.shape)\n",
    "#print('len(md_label)',len(md_label))\n",
    "#print('md_label.shape', md_label.shape)\n",
    "print('Accuracy of fg_model:', (size-incorrect)/size)"
   ]
  },
  {
   "cell_type": "code",
   "execution_count": 155,
   "id": "d2e7f7f0-3285-472a-9ce5-c3a1e0f4d494",
   "metadata": {},
   "outputs": [
    {
     "name": "stdout",
     "output_type": "stream",
     "text": [
      "x_adv_val.shape (8, 32, 32, 3)\n",
      "y_adv_val.shape (8,)\n",
      "x_adv_test.shape (25, 32, 32, 3)\n",
      "y_adv_test.shape (25,)\n",
      "x_adv_train.shape (67, 32, 32, 3)\n",
      "y_adv_train.shape (67,)\n"
     ]
    }
   ],
   "source": [
    "# Use same distribution for validation and test data\n",
    "# (13% validation data, 36% = test data)\n",
    "val_idx = int(incorrect * 0.13)-1\n",
    "test_idx = int(incorrect * 0.35)-1 + val_idx\n",
    "#print('train_idx', train_idx)\n",
    "#print('val_idx', val_idx)\n",
    "#print('test_idx', test_idx)\n",
    "x_adv_val = md_imgs[:val_idx]\n",
    "y_adv_val = md_label[:val_idx]\n",
    "print('x_adv_val.shape',x_adv_val.shape)\n",
    "print('y_adv_val.shape',y_adv_val.shape)\n",
    "\n",
    "x_adv_test = md_imgs[val_idx:test_idx]\n",
    "y_adv_test = md_label[val_idx:test_idx]\n",
    "print('x_adv_test.shape',x_adv_test.shape)\n",
    "print('y_adv_test.shape',y_adv_test.shape)\n",
    "\n",
    "x_adv_train = md_imgs[test_idx:]\n",
    "y_adv_train = md_label[test_idx:]\n",
    "print('x_adv_train.shape',x_adv_train.shape)\n",
    "print('y_adv_train.shape',y_adv_train.shape)\n",
    "\n",
    "#print('len(x_adv_val)', len(x_adv_val))\n",
    "#print('type(x_adv_val)', type(x_adv_val))\n",
    "#print('type(x_adv_val[0])', type(x_adv_val[0]))\n",
    "#print('len(y_adv_test)', len(y_adv_test))\n",
    "#md_dict = {'labels': corr_label, 'features': md_imgs}\n",
    "#print(md_dict)"
   ]
  },
  {
   "cell_type": "code",
   "execution_count": 156,
   "id": "21de0980-1724-4f8c-992b-c79c67598031",
   "metadata": {},
   "outputs": [],
   "source": [
    "# Convert labels to one-hot encoding\n",
    "y_adv_train = keras.utils.to_categorical(y_adv_train, NUM_LABELS)\n",
    "y_adv_test = keras.utils.to_categorical(y_adv_test, NUM_LABELS)\n",
    "y_adv_val = keras.utils.to_categorical(y_adv_val, NUM_LABELS)"
   ]
  },
  {
   "cell_type": "markdown",
   "id": "20d0d2d6-c15d-4a31-8897-739769ced354",
   "metadata": {},
   "source": [
    "#### **it_model** training (model based on **Iterative attack** miss-detection"
   ]
  },
  {
   "cell_type": "code",
   "execution_count": 158,
   "id": "85289eea-c2d1-4ee8-8724-4a52fddb29ac",
   "metadata": {},
   "outputs": [
    {
     "name": "stdout",
     "output_type": "stream",
     "text": [
      "Train on 67 samples, validate on 8 samples\n",
      "Epoch 1/100\n",
      "The history saving thread hit an unexpected error (OperationalError('unable to open database file',)).History will not be written to the database.\n",
      "67/67 [==============================] - 0s 330us/step - loss: 3.4443 - acc: 0.1343 - val_loss: 3.3004 - val_acc: 0.0000e+00\n"
     ]
    },
    {
     "ename": "OSError",
     "evalue": "Unable to create file (unable to open file: name = './fg_model_weights/weights.01-3.30.hdf5', errno = 122, error message = 'Disk quota exceeded', flags = 13, o_flags = 242)",
     "output_type": "error",
     "traceback": [
      "\u001b[0;31m---------------------------------------------------------------------------\u001b[0m",
      "\u001b[0;31mOSError\u001b[0m                                   Traceback (most recent call last)",
      "\u001b[0;32m<ipython-input-158-3cb0b6c88560>\u001b[0m in \u001b[0;36m<module>\u001b[0;34m\u001b[0m\n\u001b[1;32m     22\u001b[0m              \u001b[0mvalidation_data\u001b[0m\u001b[0;34m=\u001b[0m\u001b[0;34m(\u001b[0m\u001b[0mx_adv_val\u001b[0m\u001b[0;34m,\u001b[0m \u001b[0my_adv_val\u001b[0m\u001b[0;34m)\u001b[0m\u001b[0;34m,\u001b[0m\u001b[0;34m\u001b[0m\u001b[0;34m\u001b[0m\u001b[0m\n\u001b[1;32m     23\u001b[0m              \u001b[0mshuffle\u001b[0m\u001b[0;34m=\u001b[0m\u001b[0;32mTrue\u001b[0m\u001b[0;34m,\u001b[0m\u001b[0;34m\u001b[0m\u001b[0;34m\u001b[0m\u001b[0m\n\u001b[0;32m---> 24\u001b[0;31m              initial_epoch=0)\n\u001b[0m",
      "\u001b[0;32m~/.conda/envs/myenv3/lib/python3.6/site-packages/keras/engine/training.py\u001b[0m in \u001b[0;36mfit\u001b[0;34m(self, x, y, batch_size, epochs, verbose, callbacks, validation_split, validation_data, shuffle, class_weight, sample_weight, initial_epoch, steps_per_epoch, validation_steps, **kwargs)\u001b[0m\n\u001b[1;32m   1703\u001b[0m                               \u001b[0minitial_epoch\u001b[0m\u001b[0;34m=\u001b[0m\u001b[0minitial_epoch\u001b[0m\u001b[0;34m,\u001b[0m\u001b[0;34m\u001b[0m\u001b[0;34m\u001b[0m\u001b[0m\n\u001b[1;32m   1704\u001b[0m                               \u001b[0msteps_per_epoch\u001b[0m\u001b[0;34m=\u001b[0m\u001b[0msteps_per_epoch\u001b[0m\u001b[0;34m,\u001b[0m\u001b[0;34m\u001b[0m\u001b[0;34m\u001b[0m\u001b[0m\n\u001b[0;32m-> 1705\u001b[0;31m                               validation_steps=validation_steps)\n\u001b[0m\u001b[1;32m   1706\u001b[0m \u001b[0;34m\u001b[0m\u001b[0m\n\u001b[1;32m   1707\u001b[0m     def evaluate(self, x=None, y=None,\n",
      "\u001b[0;32m~/.conda/envs/myenv3/lib/python3.6/site-packages/keras/engine/training.py\u001b[0m in \u001b[0;36m_fit_loop\u001b[0;34m(self, f, ins, out_labels, batch_size, epochs, verbose, callbacks, val_f, val_ins, shuffle, callback_metrics, initial_epoch, steps_per_epoch, validation_steps)\u001b[0m\n\u001b[1;32m   1254\u001b[0m                             \u001b[0;32mfor\u001b[0m \u001b[0ml\u001b[0m\u001b[0;34m,\u001b[0m \u001b[0mo\u001b[0m \u001b[0;32min\u001b[0m \u001b[0mzip\u001b[0m\u001b[0;34m(\u001b[0m\u001b[0mout_labels\u001b[0m\u001b[0;34m,\u001b[0m \u001b[0mval_outs\u001b[0m\u001b[0;34m)\u001b[0m\u001b[0;34m:\u001b[0m\u001b[0;34m\u001b[0m\u001b[0;34m\u001b[0m\u001b[0m\n\u001b[1;32m   1255\u001b[0m                                 \u001b[0mepoch_logs\u001b[0m\u001b[0;34m[\u001b[0m\u001b[0;34m'val_'\u001b[0m \u001b[0;34m+\u001b[0m \u001b[0ml\u001b[0m\u001b[0;34m]\u001b[0m \u001b[0;34m=\u001b[0m \u001b[0mo\u001b[0m\u001b[0;34m\u001b[0m\u001b[0;34m\u001b[0m\u001b[0m\n\u001b[0;32m-> 1256\u001b[0;31m             \u001b[0mcallbacks\u001b[0m\u001b[0;34m.\u001b[0m\u001b[0mon_epoch_end\u001b[0m\u001b[0;34m(\u001b[0m\u001b[0mepoch\u001b[0m\u001b[0;34m,\u001b[0m \u001b[0mepoch_logs\u001b[0m\u001b[0;34m)\u001b[0m\u001b[0;34m\u001b[0m\u001b[0;34m\u001b[0m\u001b[0m\n\u001b[0m\u001b[1;32m   1257\u001b[0m             \u001b[0;32mif\u001b[0m \u001b[0mcallback_model\u001b[0m\u001b[0;34m.\u001b[0m\u001b[0mstop_training\u001b[0m\u001b[0;34m:\u001b[0m\u001b[0;34m\u001b[0m\u001b[0;34m\u001b[0m\u001b[0m\n\u001b[1;32m   1258\u001b[0m                 \u001b[0;32mbreak\u001b[0m\u001b[0;34m\u001b[0m\u001b[0;34m\u001b[0m\u001b[0m\n",
      "\u001b[0;32m~/.conda/envs/myenv3/lib/python3.6/site-packages/keras/callbacks.py\u001b[0m in \u001b[0;36mon_epoch_end\u001b[0;34m(self, epoch, logs)\u001b[0m\n\u001b[1;32m     75\u001b[0m         \u001b[0mlogs\u001b[0m \u001b[0;34m=\u001b[0m \u001b[0mlogs\u001b[0m \u001b[0;32mor\u001b[0m \u001b[0;34m{\u001b[0m\u001b[0;34m}\u001b[0m\u001b[0;34m\u001b[0m\u001b[0;34m\u001b[0m\u001b[0m\n\u001b[1;32m     76\u001b[0m         \u001b[0;32mfor\u001b[0m \u001b[0mcallback\u001b[0m \u001b[0;32min\u001b[0m \u001b[0mself\u001b[0m\u001b[0;34m.\u001b[0m\u001b[0mcallbacks\u001b[0m\u001b[0;34m:\u001b[0m\u001b[0;34m\u001b[0m\u001b[0;34m\u001b[0m\u001b[0m\n\u001b[0;32m---> 77\u001b[0;31m             \u001b[0mcallback\u001b[0m\u001b[0;34m.\u001b[0m\u001b[0mon_epoch_end\u001b[0m\u001b[0;34m(\u001b[0m\u001b[0mepoch\u001b[0m\u001b[0;34m,\u001b[0m \u001b[0mlogs\u001b[0m\u001b[0;34m)\u001b[0m\u001b[0;34m\u001b[0m\u001b[0;34m\u001b[0m\u001b[0m\n\u001b[0m\u001b[1;32m     78\u001b[0m \u001b[0;34m\u001b[0m\u001b[0m\n\u001b[1;32m     79\u001b[0m     \u001b[0;32mdef\u001b[0m \u001b[0mon_batch_begin\u001b[0m\u001b[0;34m(\u001b[0m\u001b[0mself\u001b[0m\u001b[0;34m,\u001b[0m \u001b[0mbatch\u001b[0m\u001b[0;34m,\u001b[0m \u001b[0mlogs\u001b[0m\u001b[0;34m=\u001b[0m\u001b[0;32mNone\u001b[0m\u001b[0;34m)\u001b[0m\u001b[0;34m:\u001b[0m\u001b[0;34m\u001b[0m\u001b[0;34m\u001b[0m\u001b[0m\n",
      "\u001b[0;32m~/.conda/envs/myenv3/lib/python3.6/site-packages/keras/callbacks.py\u001b[0m in \u001b[0;36mon_epoch_end\u001b[0;34m(self, epoch, logs)\u001b[0m\n\u001b[1;32m    456\u001b[0m                     \u001b[0mself\u001b[0m\u001b[0;34m.\u001b[0m\u001b[0mmodel\u001b[0m\u001b[0;34m.\u001b[0m\u001b[0msave_weights\u001b[0m\u001b[0;34m(\u001b[0m\u001b[0mfilepath\u001b[0m\u001b[0;34m,\u001b[0m \u001b[0moverwrite\u001b[0m\u001b[0;34m=\u001b[0m\u001b[0;32mTrue\u001b[0m\u001b[0;34m)\u001b[0m\u001b[0;34m\u001b[0m\u001b[0;34m\u001b[0m\u001b[0m\n\u001b[1;32m    457\u001b[0m                 \u001b[0;32melse\u001b[0m\u001b[0;34m:\u001b[0m\u001b[0;34m\u001b[0m\u001b[0;34m\u001b[0m\u001b[0m\n\u001b[0;32m--> 458\u001b[0;31m                     \u001b[0mself\u001b[0m\u001b[0;34m.\u001b[0m\u001b[0mmodel\u001b[0m\u001b[0;34m.\u001b[0m\u001b[0msave\u001b[0m\u001b[0;34m(\u001b[0m\u001b[0mfilepath\u001b[0m\u001b[0;34m,\u001b[0m \u001b[0moverwrite\u001b[0m\u001b[0;34m=\u001b[0m\u001b[0;32mTrue\u001b[0m\u001b[0;34m)\u001b[0m\u001b[0;34m\u001b[0m\u001b[0;34m\u001b[0m\u001b[0m\n\u001b[0m\u001b[1;32m    459\u001b[0m \u001b[0;34m\u001b[0m\u001b[0m\n\u001b[1;32m    460\u001b[0m \u001b[0;34m\u001b[0m\u001b[0m\n",
      "\u001b[0;32m~/.conda/envs/myenv3/lib/python3.6/site-packages/keras/engine/topology.py\u001b[0m in \u001b[0;36msave\u001b[0;34m(self, filepath, overwrite, include_optimizer)\u001b[0m\n\u001b[1;32m   2589\u001b[0m         \"\"\"\n\u001b[1;32m   2590\u001b[0m         \u001b[0;32mfrom\u001b[0m \u001b[0;34m.\u001b[0m\u001b[0;34m.\u001b[0m\u001b[0mmodels\u001b[0m \u001b[0;32mimport\u001b[0m \u001b[0msave_model\u001b[0m\u001b[0;34m\u001b[0m\u001b[0;34m\u001b[0m\u001b[0m\n\u001b[0;32m-> 2591\u001b[0;31m         \u001b[0msave_model\u001b[0m\u001b[0;34m(\u001b[0m\u001b[0mself\u001b[0m\u001b[0;34m,\u001b[0m \u001b[0mfilepath\u001b[0m\u001b[0;34m,\u001b[0m \u001b[0moverwrite\u001b[0m\u001b[0;34m,\u001b[0m \u001b[0minclude_optimizer\u001b[0m\u001b[0;34m)\u001b[0m\u001b[0;34m\u001b[0m\u001b[0;34m\u001b[0m\u001b[0m\n\u001b[0m\u001b[1;32m   2592\u001b[0m \u001b[0;34m\u001b[0m\u001b[0m\n\u001b[1;32m   2593\u001b[0m     \u001b[0;32mdef\u001b[0m \u001b[0msave_weights\u001b[0m\u001b[0;34m(\u001b[0m\u001b[0mself\u001b[0m\u001b[0;34m,\u001b[0m \u001b[0mfilepath\u001b[0m\u001b[0;34m,\u001b[0m \u001b[0moverwrite\u001b[0m\u001b[0;34m=\u001b[0m\u001b[0;32mTrue\u001b[0m\u001b[0;34m)\u001b[0m\u001b[0;34m:\u001b[0m\u001b[0;34m\u001b[0m\u001b[0;34m\u001b[0m\u001b[0m\n",
      "\u001b[0;32m~/.conda/envs/myenv3/lib/python3.6/site-packages/keras/models.py\u001b[0m in \u001b[0;36msave_model\u001b[0;34m(model, filepath, overwrite, include_optimizer)\u001b[0m\n\u001b[1;32m    113\u001b[0m                 \u001b[0;32mreturn\u001b[0m\u001b[0;34m\u001b[0m\u001b[0;34m\u001b[0m\u001b[0m\n\u001b[1;32m    114\u001b[0m \u001b[0;34m\u001b[0m\u001b[0m\n\u001b[0;32m--> 115\u001b[0;31m         \u001b[0mf\u001b[0m \u001b[0;34m=\u001b[0m \u001b[0mh5py\u001b[0m\u001b[0;34m.\u001b[0m\u001b[0mFile\u001b[0m\u001b[0;34m(\u001b[0m\u001b[0mfilepath\u001b[0m\u001b[0;34m,\u001b[0m \u001b[0mmode\u001b[0m\u001b[0;34m=\u001b[0m\u001b[0;34m'w'\u001b[0m\u001b[0;34m)\u001b[0m\u001b[0;34m\u001b[0m\u001b[0;34m\u001b[0m\u001b[0m\n\u001b[0m\u001b[1;32m    116\u001b[0m         \u001b[0mopened_new_file\u001b[0m \u001b[0;34m=\u001b[0m \u001b[0;32mTrue\u001b[0m\u001b[0;34m\u001b[0m\u001b[0;34m\u001b[0m\u001b[0m\n\u001b[1;32m    117\u001b[0m     \u001b[0;32melse\u001b[0m\u001b[0;34m:\u001b[0m\u001b[0;34m\u001b[0m\u001b[0;34m\u001b[0m\u001b[0m\n",
      "\u001b[0;32m~/.conda/envs/myenv3/lib/python3.6/site-packages/h5py/_hl/files.py\u001b[0m in \u001b[0;36m__init__\u001b[0;34m(self, name, mode, driver, libver, userblock_size, swmr, **kwds)\u001b[0m\n\u001b[1;32m    310\u001b[0m             \u001b[0;32mwith\u001b[0m \u001b[0mphil\u001b[0m\u001b[0;34m:\u001b[0m\u001b[0;34m\u001b[0m\u001b[0;34m\u001b[0m\u001b[0m\n\u001b[1;32m    311\u001b[0m                 \u001b[0mfapl\u001b[0m \u001b[0;34m=\u001b[0m \u001b[0mmake_fapl\u001b[0m\u001b[0;34m(\u001b[0m\u001b[0mdriver\u001b[0m\u001b[0;34m,\u001b[0m \u001b[0mlibver\u001b[0m\u001b[0;34m,\u001b[0m \u001b[0;34m**\u001b[0m\u001b[0mkwds\u001b[0m\u001b[0;34m)\u001b[0m\u001b[0;34m\u001b[0m\u001b[0;34m\u001b[0m\u001b[0m\n\u001b[0;32m--> 312\u001b[0;31m                 \u001b[0mfid\u001b[0m \u001b[0;34m=\u001b[0m \u001b[0mmake_fid\u001b[0m\u001b[0;34m(\u001b[0m\u001b[0mname\u001b[0m\u001b[0;34m,\u001b[0m \u001b[0mmode\u001b[0m\u001b[0;34m,\u001b[0m \u001b[0muserblock_size\u001b[0m\u001b[0;34m,\u001b[0m \u001b[0mfapl\u001b[0m\u001b[0;34m,\u001b[0m \u001b[0mswmr\u001b[0m\u001b[0;34m=\u001b[0m\u001b[0mswmr\u001b[0m\u001b[0;34m)\u001b[0m\u001b[0;34m\u001b[0m\u001b[0;34m\u001b[0m\u001b[0m\n\u001b[0m\u001b[1;32m    313\u001b[0m \u001b[0;34m\u001b[0m\u001b[0m\n\u001b[1;32m    314\u001b[0m                 \u001b[0;32mif\u001b[0m \u001b[0mswmr_support\u001b[0m\u001b[0;34m:\u001b[0m\u001b[0;34m\u001b[0m\u001b[0;34m\u001b[0m\u001b[0m\n",
      "\u001b[0;32m~/.conda/envs/myenv3/lib/python3.6/site-packages/h5py/_hl/files.py\u001b[0m in \u001b[0;36mmake_fid\u001b[0;34m(name, mode, userblock_size, fapl, fcpl, swmr)\u001b[0m\n\u001b[1;32m    146\u001b[0m         \u001b[0mfid\u001b[0m \u001b[0;34m=\u001b[0m \u001b[0mh5f\u001b[0m\u001b[0;34m.\u001b[0m\u001b[0mcreate\u001b[0m\u001b[0;34m(\u001b[0m\u001b[0mname\u001b[0m\u001b[0;34m,\u001b[0m \u001b[0mh5f\u001b[0m\u001b[0;34m.\u001b[0m\u001b[0mACC_EXCL\u001b[0m\u001b[0;34m,\u001b[0m \u001b[0mfapl\u001b[0m\u001b[0;34m=\u001b[0m\u001b[0mfapl\u001b[0m\u001b[0;34m,\u001b[0m \u001b[0mfcpl\u001b[0m\u001b[0;34m=\u001b[0m\u001b[0mfcpl\u001b[0m\u001b[0;34m)\u001b[0m\u001b[0;34m\u001b[0m\u001b[0;34m\u001b[0m\u001b[0m\n\u001b[1;32m    147\u001b[0m     \u001b[0;32melif\u001b[0m \u001b[0mmode\u001b[0m \u001b[0;34m==\u001b[0m \u001b[0;34m'w'\u001b[0m\u001b[0;34m:\u001b[0m\u001b[0;34m\u001b[0m\u001b[0;34m\u001b[0m\u001b[0m\n\u001b[0;32m--> 148\u001b[0;31m         \u001b[0mfid\u001b[0m \u001b[0;34m=\u001b[0m \u001b[0mh5f\u001b[0m\u001b[0;34m.\u001b[0m\u001b[0mcreate\u001b[0m\u001b[0;34m(\u001b[0m\u001b[0mname\u001b[0m\u001b[0;34m,\u001b[0m \u001b[0mh5f\u001b[0m\u001b[0;34m.\u001b[0m\u001b[0mACC_TRUNC\u001b[0m\u001b[0;34m,\u001b[0m \u001b[0mfapl\u001b[0m\u001b[0;34m=\u001b[0m\u001b[0mfapl\u001b[0m\u001b[0;34m,\u001b[0m \u001b[0mfcpl\u001b[0m\u001b[0;34m=\u001b[0m\u001b[0mfcpl\u001b[0m\u001b[0;34m)\u001b[0m\u001b[0;34m\u001b[0m\u001b[0;34m\u001b[0m\u001b[0m\n\u001b[0m\u001b[1;32m    149\u001b[0m     \u001b[0;32melif\u001b[0m \u001b[0mmode\u001b[0m \u001b[0;34m==\u001b[0m \u001b[0;34m'a'\u001b[0m\u001b[0;34m:\u001b[0m\u001b[0;34m\u001b[0m\u001b[0;34m\u001b[0m\u001b[0m\n\u001b[1;32m    150\u001b[0m         \u001b[0;31m# Open in append mode (read/write).\u001b[0m\u001b[0;34m\u001b[0m\u001b[0;34m\u001b[0m\u001b[0;34m\u001b[0m\u001b[0m\n",
      "\u001b[0;32mh5py/_objects.pyx\u001b[0m in \u001b[0;36mh5py._objects.with_phil.wrapper\u001b[0;34m()\u001b[0m\n",
      "\u001b[0;32mh5py/_objects.pyx\u001b[0m in \u001b[0;36mh5py._objects.with_phil.wrapper\u001b[0;34m()\u001b[0m\n",
      "\u001b[0;32mh5py/h5f.pyx\u001b[0m in \u001b[0;36mh5py.h5f.create\u001b[0;34m()\u001b[0m\n",
      "\u001b[0;31mOSError\u001b[0m: Unable to create file (unable to open file: name = './fg_model_weights/weights.01-3.30.hdf5', errno = 122, error message = 'Disk quota exceeded', flags = 13, o_flags = 242)"
     ]
    }
   ],
   "source": [
    "it_model = model\n",
    "\n",
    "# Path to save weights\n",
    "filepath = './it_model_weights/weights.{epoch:02d}-{val_loss:.2f}.hdf5'\n",
    "\n",
    "# Callback function to save weights every epoch\n",
    "modelCheckpoint = keras.callbacks.ModelCheckpoint(\n",
    "    filepath,\n",
    "    monitor='val_loss',\n",
    "    verbose=0,\n",
    "    save_best_only=False,\n",
    "    save_weights_only=False,\n",
    "    mode='auto',\n",
    "    period=1)\n",
    "\n",
    "it_model.fit(x_adv_train,\n",
    "             y_adv_train,\n",
    "             batch_size=BATCH_SIZE,\n",
    "             epochs=NUM_EPOCH,\n",
    "             verbose=1,\n",
    "             callbacks=[modelCheckpoint],\n",
    "             validation_data=(x_adv_val, y_adv_val),\n",
    "             shuffle=True,\n",
    "             initial_epoch=0)"
   ]
  },
  {
   "cell_type": "markdown",
   "id": "071d65dc-ef0a-47fd-a01e-66e9abfb5ea8",
   "metadata": {},
   "source": [
    "Regenerate *size* adversarial examples with the **Iterative Attack** and measure of accuracy of the model"
   ]
  },
  {
   "cell_type": "code",
   "execution_count": null,
   "id": "6deae2a0-87be-4818-81a6-707ce60bc165",
   "metadata": {},
   "outputs": [],
   "source": [
    "# Set target class to attack\n",
    "tg = 10\n",
    "#print(\"Target class: \" + signnames[tg])\n",
    "# Set number of samples\n",
    "size = 100\n",
    "\n",
    "y_target = np.zeros((len(x_test))) + tg\n",
    "y_target = keras.utils.to_categorical(y_target, NUM_LABELS)\n",
    "\n",
    "# Filter samples (originally misclassified, originally classified as target)\n",
    "x_fil, y_fil, del_id = filter_samples(model, x_smp, y_smp, y_target=y_target)\n",
    "x_fil_full = np.delete(x_smp_full, del_id, axis=0)\n",
    "masks_fil = np.delete(masks, del_id, axis=0)\n",
    "masks_fil_full = np.delete(masks_full, del_id, axis=0)\n",
    "\n",
    "# Set samples to attack (choose some samples by random)\n",
    "ind = np.random.choice(range(len(y_fil)), size=size)\n",
    "x_ben = np.copy(x_fil[ind])\n",
    "x_ben_full = np.copy(x_fil_full[ind])\n",
    "y_ben = np.copy(y_fil[ind])\n",
    "y_tg = np.copy(y_target[ind])\n",
    "masks_ben = np.copy(masks_fil[ind])\n",
    "masks_ben_full = np.copy(masks_fil_full[ind])"
   ]
  },
  {
   "cell_type": "markdown",
   "id": "369b069f-b328-4a05-836a-43f83283bdc6",
   "metadata": {},
   "source": [
    "We can see that the **iter_model** is no longer subject to adversarial samples generated with the **Iterative Attack**"
   ]
  },
  {
   "cell_type": "code",
   "execution_count": 154,
   "id": "4ecf3e3b-ed09-45a0-922c-fe7b970d13e4",
   "metadata": {},
   "outputs": [
    {
     "name": "stdout",
     "output_type": "stream",
     "text": [
      "Accuracy of original model: 0.24\n"
     ]
    }
   ],
   "source": [
    "#md_imgs = miss-detected images\n",
    "#md_label = miss-detected labels\n",
    "md_imgs = np.zeros((size, 32, 32, 3))\n",
    "md_label = np.zeros((size))\n",
    "incorrect = 0\n",
    "for i in range(size):\n",
    "    im = x_ben[i]\n",
    "    #print(x_ben[i].shape)\n",
    "    og_pred = predict(it_model, im)\n",
    "    og_class = signnames[og_pred]\n",
    "    \n",
    "    im_fg = x_it[i]\n",
    "    #print('og_class:', og_class)\n",
    "    adv_class = signnames[predict(it_model, im_fg)]\n",
    "    \n",
    "    #print('adv_class', adv_class)\n",
    "    if og_class != adv_class:\n",
    "        md_label[i] = og_pred\n",
    "        md_imgs[i] = im_fg\n",
    "        \n",
    "        incorrect += 1\n",
    "    \n",
    "#print('incorrect', incorrect)\n",
    "#print('len(md_imgs)',len(md_imgs))\n",
    "#print('md_imgs.shape', md_imgs.shape)\n",
    "#print('len(md_label)',len(md_label))\n",
    "#print('md_label.shape', md_label.shape)\n",
    "print('Accuracy of iter_model:', (size-incorrect)/size)"
   ]
  },
  {
   "cell_type": "markdown",
   "id": "017aa52f-f8a7-4368-a3f8-dcab8ee04af9",
   "metadata": {},
   "source": [
    "## Optimize Attack\n",
    "* Here I generate *size* adversarial examples with the **Optimize Attack** and measure the accuracy of the model"
   ]
  },
  {
   "cell_type": "code",
   "execution_count": 142,
   "id": "bfd6f416-5ed6-4aaa-99ea-217fd471a7ee",
   "metadata": {},
   "outputs": [],
   "source": [
    "# Build and load trained model\n",
    "#model = built_mltscl()\n",
    "model = build_mltscl()\n",
    "\n",
    "model.load_weights(WEIGTHS_PATH)\n",
    "\n",
    "# Load dataset\n",
    "x_train, y_train, x_val, y_val, x_test, y_test = load_dataset_GTSRB(\n",
    "    n_channel=N_CHANNEL)\n",
    "\n",
    "# Convert labels to one-hot encoding\n",
    "y_train = keras.utils.to_categorical(y_train, NUM_LABELS)\n",
    "y_test = keras.utils.to_categorical(y_test, NUM_LABELS)\n",
    "y_val = keras.utils.to_categorical(y_val, NUM_LABELS)\n",
    "\n",
    "# Read sign names\n",
    "signnames = read_csv(\"./input_data/signnames.csv\").values[:, 1]"
   ]
  },
  {
   "cell_type": "code",
   "execution_count": 143,
   "id": "2eae8296-502f-4805-b729-51798a322e3c",
   "metadata": {},
   "outputs": [
    {
     "name": "stderr",
     "output_type": "stream",
     "text": [
      "/home/dferna3/.conda/envs/myenv3/lib/python3.6/site-packages/scipy/ndimage/measurements.py:431: FutureWarning: Conversion of the second argument of issubdtype from `int` to `np.signedinteger` is deprecated. In future, it will be treated as `np.int64 == np.dtype(int).type`.\n",
      "  safe = ((np.issubdtype(dt, int) and dt.itemsize <= int_size) or\n",
      "/home/dferna3/.conda/envs/myenv3/lib/python3.6/site-packages/scipy/misc/pilutil.py:482: FutureWarning: Conversion of the second argument of issubdtype from `int` to `np.signedinteger` is deprecated. In future, it will be treated as `np.int64 == np.dtype(int).type`.\n",
      "  if issubdtype(ts, int):\n",
      "/home/dferna3/.conda/envs/myenv3/lib/python3.6/site-packages/scipy/misc/pilutil.py:485: FutureWarning: Conversion of the second argument of issubdtype from `float` to `np.floating` is deprecated. In future, it will be treated as `np.float64 == np.dtype(float).type`.\n",
      "  elif issubdtype(type(size), float):\n"
     ]
    }
   ],
   "source": [
    "# Load sample images, labels and masks\n",
    "x_smp, x_smp_full, y_smp, masks, masks_full = load_samples(SAMPLE_IMG_DIR, SAMPLE_LABEL)"
   ]
  },
  {
   "cell_type": "code",
   "execution_count": 144,
   "id": "f7dba54d-9856-41e8-a166-8dd8e76e75d3",
   "metadata": {
    "tags": []
   },
   "outputs": [],
   "source": [
    "# Set target class to attack\n",
    "tg = 10\n",
    "#print(\"Target class: \" + signnames[tg])\n",
    "# Set number of samples\n",
    "size = 100\n",
    "\n",
    "y_target = np.zeros((len(x_test))) + tg\n",
    "y_target = keras.utils.to_categorical(y_target, NUM_LABELS)\n",
    "\n",
    "# Filter samples (originally misclassified, originally classified as target)\n",
    "x_fil, y_fil, del_id = filter_samples(model, x_smp, y_smp, y_target=y_target)\n",
    "x_fil_full = np.delete(x_smp_full, del_id, axis=0)\n",
    "masks_fil = np.delete(masks, del_id, axis=0)\n",
    "masks_fil_full = np.delete(masks_full, del_id, axis=0)\n",
    "\n",
    "# Set samples to attack (choose some samples by random)\n",
    "ind = np.random.choice(range(len(y_fil)), size=size)\n",
    "x_ben = np.copy(x_fil[ind])\n",
    "x_ben_full = np.copy(x_fil_full[ind])\n",
    "y_ben = np.copy(y_fil[ind])\n",
    "y_tg = np.copy(y_target[ind])\n",
    "masks_ben = np.copy(masks_fil[ind])\n",
    "masks_ben_full = np.copy(masks_fil_full[ind])"
   ]
  },
  {
   "cell_type": "code",
   "execution_count": 145,
   "id": "79fe9abc-3fed-4394-91cb-a07644eba616",
   "metadata": {},
   "outputs": [
    {
     "name": "stdout",
     "output_type": "stream",
     "text": [
      "WARNING:tensorflow:From /home/dferna3/advml-traffic-sign/lib/OptCarlini.py:135: to_int32 (from tensorflow.python.ops.math_ops) is deprecated and will be removed in a future version.\n",
      "Instructions for updating:\n",
      "Use `tf.cast` instead.\n",
      "WARNING:tensorflow:From /home/dferna3/advml-traffic-sign/lib/OptCarlini.py:38: The name tf.train.inverse_time_decay is deprecated. Please use tf.compat.v1.train.inverse_time_decay instead.\n",
      "\n",
      "WARNING:tensorflow:From /home/dferna3/advml-traffic-sign/lib/OptCarlini.py:41: The name tf.train.AdamOptimizer is deprecated. Please use tf.compat.v1.train.AdamOptimizer instead.\n",
      "\n",
      "WARNING:tensorflow:From /home/dferna3/.conda/envs/myenv3/lib/python3.6/site-packages/tensorflow_core/python/ops/math_grad.py:1424: where (from tensorflow.python.ops.array_ops) is deprecated and will be removed in a future version.\n",
      "Instructions for updating:\n",
      "Use tf.where in 2.0, which has the same broadcast rule as np.where\n",
      "WARNING:tensorflow:From /home/dferna3/advml-traffic-sign/lib/OptCarlini.py:188: The name tf.global_variables_initializer is deprecated. Please use tf.compat.v1.global_variables_initializer instead.\n",
      "\n",
      "Step: 0, norm=10.746, loss=31.399, obj=42.145\n",
      "Step: 50, norm=10.706, loss=2.305, obj=13.011\n",
      "Step: 100, norm=10.517, loss=1.116, obj=11.633\n",
      "Step: 150, norm=10.327, loss=0.523, obj=10.850\n",
      "Step: 200, norm=10.133, loss=0.206, obj=10.339\n",
      "Step: 250, norm=9.929, loss=0.006, obj=9.935\n",
      "Step: 300, norm=9.733, loss=-0.243, obj=9.490\n",
      "Step: 350, norm=9.547, loss=-0.390, obj=9.157\n",
      "Step: 400, norm=9.375, loss=-0.566, obj=8.809\n",
      "Step: 450, norm=9.203, loss=-0.645, obj=8.558\n",
      "Step: 500, norm=9.045, loss=-0.558, obj=8.487\n",
      "Step: 550, norm=8.909, loss=-0.726, obj=8.182\n",
      "Step: 600, norm=8.764, loss=-0.783, obj=7.982\n",
      "Step: 650, norm=8.621, loss=-0.929, obj=7.692\n",
      "Step: 700, norm=8.488, loss=-0.836, obj=7.652\n",
      "Step: 750, norm=8.477, loss=-5.000, obj=3.477\n",
      "Step: 800, norm=8.223, loss=-5.000, obj=3.223\n",
      "Step: 850, norm=7.944, loss=-5.000, obj=2.944\n",
      "Step: 900, norm=7.670, loss=-5.000, obj=2.670\n",
      "Step: 950, norm=7.471, loss=-5.000, obj=2.471\n",
      "Step: 1000, norm=7.212, loss=-5.000, obj=2.212\n",
      "Step: 1050, norm=7.017, loss=-5.000, obj=2.017\n",
      "Step: 1100, norm=6.789, loss=-5.000, obj=1.789\n",
      "Step: 1150, norm=6.596, loss=-5.000, obj=1.596\n",
      "Step: 1200, norm=6.334, loss=-4.996, obj=1.338\n",
      "Step: 1250, norm=6.183, loss=-5.000, obj=1.183\n",
      "Step: 1300, norm=5.940, loss=-5.000, obj=0.940\n",
      "Step: 1350, norm=5.753, loss=-5.000, obj=0.753\n",
      "Step: 1400, norm=5.607, loss=-5.000, obj=0.607\n",
      "Step: 1450, norm=5.394, loss=-5.000, obj=0.394\n",
      "Step: 1500, norm=5.231, loss=-5.000, obj=0.231\n",
      "Step: 1550, norm=5.060, loss=-5.000, obj=0.060\n",
      "Step: 1600, norm=4.906, loss=-5.000, obj=-0.094\n",
      "Step: 1650, norm=4.755, loss=-5.000, obj=-0.245\n",
      "Step: 1700, norm=4.610, loss=-5.000, obj=-0.390\n",
      "Step: 1750, norm=4.457, loss=-5.000, obj=-0.543\n",
      "Step: 1800, norm=4.315, loss=-5.000, obj=-0.685\n",
      "Step: 1850, norm=4.195, loss=-5.000, obj=-0.805\n",
      "Step: 1900, norm=4.042, loss=-4.968, obj=-0.926\n",
      "Step: 1950, norm=3.950, loss=-5.000, obj=-1.050\n",
      "Step: 2000, norm=3.823, loss=-5.000, obj=-1.177\n",
      "Step: 2050, norm=3.745, loss=-5.000, obj=-1.255\n",
      "Step: 2100, norm=3.614, loss=-5.000, obj=-1.386\n",
      "Step: 2150, norm=3.537, loss=-5.000, obj=-1.463\n",
      "Step: 2200, norm=3.420, loss=-5.000, obj=-1.580\n",
      "Step: 2250, norm=3.342, loss=-5.000, obj=-1.658\n",
      "Step: 2300, norm=3.285, loss=-5.000, obj=-1.715\n",
      "Step: 2350, norm=3.164, loss=-5.000, obj=-1.836\n",
      "Step: 2400, norm=3.116, loss=-5.000, obj=-1.884\n",
      "Step: 2450, norm=3.060, loss=-5.000, obj=-1.940\n",
      "Step: 2500, norm=2.979, loss=-5.000, obj=-2.021\n",
      "Step: 2550, norm=2.915, loss=-5.000, obj=-2.085\n",
      "Step: 2600, norm=2.895, loss=-5.000, obj=-2.105\n",
      "Step: 2650, norm=2.815, loss=-5.000, obj=-2.185\n",
      "Step: 2700, norm=2.739, loss=-5.000, obj=-2.261\n",
      "Step: 2750, norm=2.715, loss=-5.000, obj=-2.285\n",
      "Step: 2800, norm=2.712, loss=-5.000, obj=-2.288\n",
      "Step: 2850, norm=2.652, loss=-5.000, obj=-2.348\n",
      "Step: 2900, norm=2.592, loss=-4.993, obj=-2.401\n",
      "Step: 2950, norm=2.570, loss=-5.000, obj=-2.430\n",
      "Step: 3000, norm=2.540, loss=-5.000, obj=-2.460\n",
      "Step: 3050, norm=2.510, loss=-5.000, obj=-2.490\n",
      "Step: 3100, norm=2.474, loss=-4.999, obj=-2.525\n",
      "Step: 3150, norm=2.436, loss=-5.000, obj=-2.564\n",
      "Step: 3200, norm=2.411, loss=-5.000, obj=-2.589\n",
      "Step: 3250, norm=2.427, loss=-5.000, obj=-2.573\n",
      "Step: 3300, norm=2.341, loss=-5.000, obj=-2.659\n",
      "Step: 3350, norm=2.293, loss=-5.000, obj=-2.707\n",
      "Step: 3400, norm=2.248, loss=-5.000, obj=-2.752\n",
      "Step: 3450, norm=2.223, loss=-5.000, obj=-2.777\n",
      "Step: 3500, norm=2.228, loss=-5.000, obj=-2.772\n",
      "Step: 3550, norm=2.161, loss=-5.000, obj=-2.839\n",
      "Step: 3600, norm=2.160, loss=-5.000, obj=-2.840\n",
      "Step: 3650, norm=2.116, loss=-5.000, obj=-2.884\n",
      "Step: 3700, norm=2.096, loss=-5.000, obj=-2.904\n",
      "Step: 3750, norm=2.066, loss=-5.000, obj=-2.934\n",
      "Step: 3800, norm=2.086, loss=-5.000, obj=-2.914\n",
      "Step: 3850, norm=2.040, loss=-5.000, obj=-2.960\n",
      "Step: 3900, norm=1.993, loss=-5.000, obj=-3.007\n",
      "Step: 3950, norm=1.971, loss=-5.000, obj=-3.029\n",
      "Step: 4000, norm=1.947, loss=-5.000, obj=-3.053\n",
      "Step: 4050, norm=1.950, loss=-5.000, obj=-3.050\n",
      "Step: 4100, norm=1.882, loss=-5.000, obj=-3.118\n",
      "Step: 4150, norm=1.862, loss=-5.000, obj=-3.138\n",
      "Step: 4200, norm=1.790, loss=-5.000, obj=-3.210\n",
      "Step: 4250, norm=1.785, loss=-5.000, obj=-3.215\n",
      "Step: 4300, norm=1.749, loss=-5.000, obj=-3.251\n",
      "Step: 4350, norm=1.716, loss=-5.000, obj=-3.284\n",
      "Step: 4400, norm=1.706, loss=-5.000, obj=-3.294\n",
      "Step: 4450, norm=1.676, loss=-5.000, obj=-3.324\n",
      "Step: 4500, norm=1.704, loss=-5.000, obj=-3.296\n",
      "Step: 4550, norm=1.655, loss=-5.000, obj=-3.345\n",
      "Step: 4600, norm=1.621, loss=-5.000, obj=-3.379\n",
      "Step: 4650, norm=1.591, loss=-5.000, obj=-3.409\n",
      "Step: 4700, norm=1.603, loss=-5.000, obj=-3.397\n",
      "Step: 4750, norm=1.600, loss=-5.000, obj=-3.400\n",
      "Step: 4800, norm=1.556, loss=-5.000, obj=-3.444\n",
      "Step: 4850, norm=1.532, loss=-5.000, obj=-3.468\n",
      "Step: 4900, norm=1.524, loss=-5.000, obj=-3.476\n",
      "Step: 4950, norm=1.526, loss=-5.000, obj=-3.474\n"
     ]
    }
   ],
   "source": [
    "# Initialize optimizer\n",
    "opt = OptCarlini(model, c=1, lr=0.01, target=True, use_bound=False, init_scl=0.1,\n",
    "                 loss_op=0, var_change=True, k=5)\n",
    "# Run optimizer on sample (only take one sample at a time)\n",
    "x_adv, norm = opt.optimize(x_ben[0], y_tg[0], n_step=5000, prog=True, mask=masks_ben[0])\n",
    "# Run optimier with constant search\n",
    "#x_adv, norm = opt.optimize_search(x_ben[0], y_tg[0], n_step=5000, search_step=10, prog=True, mask=masks_ben[0])"
   ]
  },
  {
   "cell_type": "markdown",
   "id": "5265be36-4659-4e36-8957-c3727ada255c",
   "metadata": {},
   "source": [
    "Here I show one of the generated adversarial examples with the **Optimize Attack**"
   ]
  },
  {
   "cell_type": "code",
   "execution_count": 148,
   "id": "a889e624-88ff-4da4-b288-402877af6f84",
   "metadata": {},
   "outputs": [
    {
     "name": "stdout",
     "output_type": "stream",
     "text": [
      "Original class: Bicycles crossing\n"
     ]
    },
    {
     "data": {
      "image/png": "[encoded data removed]",
      "text/plain": [
       "<Figure size 432x288 with 1 Axes>"
      ]
     },
     "metadata": {
      "needs_background": "light"
     },
     "output_type": "display_data"
    },
    {
     "name": "stdout",
     "output_type": "stream",
     "text": [
      "Adversarial class: No passing for vechiles over 3.5 metric tons\n"
     ]
    },
    {
     "data": {
      "image/png": "[encoded data removed]",
      "text/plain": [
       "<Figure size 432x288 with 1 Axes>"
      ]
     },
     "metadata": {
      "needs_background": "light"
     },
     "output_type": "display_data"
    },
    {
     "name": "stdout",
     "output_type": "stream",
     "text": [
      "****************************************************\n"
     ]
    }
   ],
   "source": [
    "im = x_ben[i]\n",
    "print(\"Original class: \" + signnames[predict(model, im)])\n",
    "plt.imshow(im)\n",
    "plt.axis('off')\n",
    "plt.show()\n",
    "\n",
    "im = x_adv\n",
    "print(\"Adversarial class: \" + signnames[predict(model, im)])\n",
    "plt.imshow(im)\n",
    "plt.axis('off')\n",
    "plt.show()\n",
    "print('****************************************************')"
   ]
  }
 ],
 "metadata": {
  "kernelspec": {
   "display_name": "myenv3",
   "language": "python",
   "name": "myenv3"
  },
  "language_info": {
   "codemirror_mode": {
    "name": "ipython",
    "version": 3
   },
   "file_extension": ".py",
   "mimetype": "text/x-python",
   "name": "python",
   "nbconvert_exporter": "python",
   "pygments_lexer": "ipython3",
   "version": "3.6.15"
  }
 },
 "nbformat": 4,
 "nbformat_minor": 5
}
